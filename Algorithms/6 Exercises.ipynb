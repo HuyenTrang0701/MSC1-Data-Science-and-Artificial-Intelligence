{
 "cells": [
  {
   "cell_type": "markdown",
   "id": "98c10349",
   "metadata": {},
   "source": [
    "**0.a Create a list of all prime numbers smaller than n**"
   ]
  },
  {
   "cell_type": "code",
   "execution_count": 1,
   "id": "b46d6b6f",
   "metadata": {},
   "outputs": [
    {
     "data": {
      "text/plain": [
       "[2, 3, 5, 7, 11, 13, 17]"
      ]
     },
     "execution_count": 1,
     "metadata": {},
     "output_type": "execute_result"
    }
   ],
   "source": [
    "n=18\n",
    "prime_list=[]\n",
    "for i in range(2, n):\n",
    "    for j in range(2, i):\n",
    "        if i%j==0:\n",
    "            break\n",
    "    else:\n",
    "        prime_list.append(i)\n",
    "\n",
    "            \n",
    "prime_list"
   ]
  },
  {
   "cell_type": "markdown",
   "id": "8625feef",
   "metadata": {},
   "source": [
    "**0.b Find the greatest common divisor between two numbers**"
   ]
  },
  {
   "cell_type": "code",
   "execution_count": 2,
   "id": "e3b62cee",
   "metadata": {},
   "outputs": [
    {
     "name": "stdout",
     "output_type": "stream",
     "text": [
      "462 630\n",
      "42\n"
     ]
    }
   ],
   "source": [
    "n=5*3*3*2*7\n",
    "m=3*2*7*11\n",
    "print(m,n)\n",
    "gcd=1\n",
    "for i in reversed(range(1, min(m,n)+1)):\n",
    "    if n%i==0 and m%i==0:\n",
    "        gcd=i\n",
    "        break\n",
    "print(gcd)"
   ]
  },
  {
   "cell_type": "markdown",
   "id": "366a3a0a",
   "metadata": {},
   "source": [
    "**0.c Least common multiple of two numbers**"
   ]
  },
  {
   "cell_type": "code",
   "execution_count": 4,
   "id": "d64d6fb2",
   "metadata": {},
   "outputs": [
    {
     "name": "stdout",
     "output_type": "stream",
     "text": [
      "462 630\n",
      "6930\n",
      "6930.0\n"
     ]
    }
   ],
   "source": [
    "n=5*3*3*2*7\n",
    "m=3*2*7*11\n",
    "print(m,n)\n",
    "lcm=1\n",
    "for i in range(max(m,n),m*n+1):\n",
    "    if i%n==0 and i%m==0:\n",
    "        lcm=i\n",
    "        break\n",
    "print(lcm)\n",
    "print(m*n/gcd)"
   ]
  },
  {
   "cell_type": "markdown",
   "id": "cc4f8898",
   "metadata": {},
   "source": [
    "**1- Make a two-player Rock-Paper-Scissors game. (Hint: Ask for player plays (using input),\n",
    "compare them, print out a message of congratulations to the winner, and ask if the players want\n",
    "to start a new game)**\n",
    "\n",
    "Remember the rules:\n",
    "Rock beats scissors\n",
    "Scissors beats paper\n",
    "Paper beats rock"
   ]
  },
  {
   "cell_type": "code",
   "execution_count": 4,
   "id": "1b58a5c2",
   "metadata": {},
   "outputs": [
    {
     "name": "stdout",
     "output_type": "stream",
     "text": [
      "Please pick one:\n",
      "                rock\n",
      "                scissors\n",
      "                paper\n"
     ]
    }
   ],
   "source": [
    "## Solution\n",
    "print('''Please pick one:\n",
    "                rock\n",
    "                scissors\n",
    "                paper''')"
   ]
  },
  {
   "cell_type": "code",
   "execution_count": 7,
   "id": "1ff11ead",
   "metadata": {},
   "outputs": [
    {
     "name": "stdout",
     "output_type": "stream",
     "text": [
      "Player a, choose between rock,scissors,paper: rock\n",
      "Player b, choose between rock,scissors,paper: paper\n",
      "player b wins.\n",
      "Do you want to play another game, yes or no?\n",
      "no\n",
      "game over.\n"
     ]
    }
   ],
   "source": [
    "while True:\n",
    "    game_dict = {'rock': 1, 'scissors': 2, 'paper': 3}\n",
    "    \n",
    "    \n",
    "    player_a = str('')\n",
    "    while player_a not in game_dict.keys() :\n",
    "        player_a = str(input(\"Player a, choose between rock,scissors,paper: \"))\n",
    "   \n",
    "\n",
    "    player_b = str('')\n",
    "    while player_b not in game_dict.keys() :\n",
    "        player_b = str(input(\"Player b, choose between rock,scissors,paper: \"))\n",
    "        \n",
    "        \n",
    "    a = game_dict.get(player_a)\n",
    "    b = game_dict.get(player_b)\n",
    "    dif = a - b\n",
    "    \n",
    "    \n",
    "    if dif in [-1, 2]:\n",
    "        print('player a wins.')\n",
    "        if str(input('Do you want to play another game, yes or no?\\n')) == 'yes':\n",
    "            continue\n",
    "        else:\n",
    "            print('game over.')\n",
    "            break\n",
    "            \n",
    "            \n",
    "    elif dif in [-2, 1]:\n",
    "        print('player b wins.')\n",
    "        if str(input('Do you want to play another game, yes or no?\\n')) == 'yes':\n",
    "            continue\n",
    "        else:\n",
    "            print('game over.')\n",
    "            break\n",
    "    else:\n",
    "        print('Draw.Please continue.')\n",
    "        print('')"
   ]
  },
  {
   "cell_type": "markdown",
   "id": "46a0ef98",
   "metadata": {},
   "source": [
    "**2 Change the program above to give the winner after three rounds**"
   ]
  },
  {
   "cell_type": "code",
   "execution_count": null,
   "id": "ce1eda75",
   "metadata": {
    "scrolled": true
   },
   "outputs": [],
   "source": [
    "pl_a_nr=0\n",
    "pl_b_nr=0\n",
    "while True:\n",
    "    game_dict = {'rock': 1, 'scissors': 2, 'paper': 3}\n",
    "    \n",
    "    \n",
    "    player_a = str('')\n",
    "    while player_a not in game_dict.keys() :\n",
    "        player_a = str(input(\"Player A, choose between rock,scissors,paper: \"))\n",
    "   \n",
    "\n",
    "    player_b = str('')\n",
    "    while player_b not in game_dict.keys() :\n",
    "        player_b = str(input(\"Player B, choose between rock,scissors,paper: \"))\n",
    "        \n",
    "        \n",
    "    a = game_dict.get(player_a)\n",
    "    b = game_dict.get(player_b)\n",
    "    dif = a - b\n",
    "    \n",
    "    \n",
    "    if dif in [-1, 2]:\n",
    "        print('player A wins the round.')\n",
    "        pl_a_nr+=1\n",
    "            \n",
    "            \n",
    "    elif dif in [-2, 1]:\n",
    "        print('player B wins the round.')\n",
    "        pl_b_nr+=1\n",
    "        \n",
    "    else:\n",
    "        print('Draw.Please continue.')\n",
    "        print('')\n",
    "    if pl_a_nr==3:\n",
    "        print('Player A wins.')\n",
    "        break\n",
    "    if pl_b_nr==3:\n",
    "        print('Player a wins.')\n",
    "        break"
   ]
  },
  {
   "cell_type": "code",
   "execution_count": null,
   "id": "9267b3b7",
   "metadata": {},
   "outputs": [],
   "source": []
  },
  {
   "cell_type": "code",
   "execution_count": 2,
   "id": "8b0d2f7a",
   "metadata": {},
   "outputs": [
    {
     "data": {
      "text/plain": [
       "2"
      ]
     },
     "execution_count": 2,
     "metadata": {},
     "output_type": "execute_result"
    }
   ],
   "source": [
    "['a','b','c','a'].count('a')"
   ]
  },
  {
   "cell_type": "code",
   "execution_count": 4,
   "id": "35512a30",
   "metadata": {},
   "outputs": [
    {
     "data": {
      "text/plain": [
       "300"
      ]
     },
     "execution_count": 4,
     "metadata": {},
     "output_type": "execute_result"
    }
   ],
   "source": [
    "max([300,200,100])"
   ]
  },
  {
   "cell_type": "markdown",
   "id": "6e69153b",
   "metadata": {},
   "source": [
    "**3 Change the program above in the case that there are n players, playing for k rounds. The winner(s) is the player with most points. A point is earned for every opponent you defeat.**"
   ]
  },
  {
   "cell_type": "code",
   "execution_count": 20,
   "id": "44342f42",
   "metadata": {},
   "outputs": [
    {
     "name": "stdout",
     "output_type": "stream",
     "text": [
      "Player 1, choose between rock,scissors,paper: paper\n",
      "Player 2, choose between rock,scissors,paper: paper\n",
      "Player 3, choose between rock,scissors,paper: paper\n",
      "Player 4, choose between rock,scissors,paper: paper\n",
      "Player 5, choose between rock,scissors,paper: rock\n",
      "Player 6, choose between rock,scissors,paper: scissors\n",
      "Player 7, choose between rock,scissors,paper: paper\n",
      "[1, 1, 1, 1, 1, 5, 1]\n",
      "Player 1, choose between rock,scissors,paper: scissors\n",
      "Player 2, choose between rock,scissors,paper: paper\n",
      "Player 3, choose between rock,scissors,paper: rock\n",
      "Player 4, choose between rock,scissors,paper: rock\n",
      "Player 5, choose between rock,scissors,paper: rock\n",
      "Player 6, choose between rock,scissors,paper: rock\n",
      "Player 7, choose between rock,scissors,paper: paper\n",
      "[3, 5, 2, 2, 2, 6, 5]\n",
      "Player 1, choose between rock,scissors,paper: scissors\n",
      "Player 2, choose between rock,scissors,paper: scissors\n",
      "Player 3, choose between rock,scissors,paper: scissors\n",
      "Player 4, choose between rock,scissors,paper: rock\n",
      "Player 5, choose between rock,scissors,paper: rock\n",
      "Player 6, choose between rock,scissors,paper: rock\n",
      "Player 7, choose between rock,scissors,paper: rock\n",
      "[3, 5, 2, 5, 5, 9, 8]\n",
      "The winners are: \n",
      "player6 ,score:  9\n"
     ]
    }
   ],
   "source": [
    "nr_players=7\n",
    "nr_rounds=3\n",
    "scores=[0]*nr_players\n",
    "players_dict=dict([[i, 'player'+str(i+1)] for i in range(nr_players)])\n",
    "\n",
    "for roundi in range(nr_rounds):\n",
    "    game_dict = {'rock': 1, 'scissors': 2, 'paper': 3}\n",
    "    choices=[]\n",
    "    for player in range(nr_players):\n",
    "        \n",
    "        player_choice = str('')\n",
    "        while player_choice not in game_dict.keys() :\n",
    "            player_choice = str(input(\"Player \"+str(player+1)+\", choose between rock,scissors,paper: \"))\n",
    "        choices.append(player_choice)\n",
    "\n",
    "    choices_dict={'rock': choices.count('rock'),'scissors': choices.count('scissors'),\n",
    "                  'paper': choices.count('paper') }  \n",
    "    beats_dict={'rock': 'scissors', 'paper': 'rock', 'scissors': 'paper'}\n",
    "    #print(choices)\n",
    "    #print(choices_dict)\n",
    "    for player, choice in enumerate(choices):\n",
    "        #print(beats_dict[choice])\n",
    "        #print(choices_dict[beats_dict[choice]])\n",
    "        scores[player]+=choices_dict[beats_dict[choice]]\n",
    "\n",
    "    print(scores)    \n",
    "    \n",
    "m = max(scores)\n",
    "winners=[i for i, j in enumerate(scores) if j == m]\n",
    "print('The winners are: ')\n",
    "for winner in winners:\n",
    "    print(players_dict[winner], ',score: ', scores[winner])\n"
   ]
  },
  {
   "cell_type": "markdown",
   "id": "37296de6",
   "metadata": {},
   "source": [
    "**4- Build a game where you draw a series of random integers evenly\n",
    "distributed from 0 and 10, with the aim of getting the sum as close as possible to 21, but not\n",
    "larger than 21. You are out of the game if the sum passes 21. After each draw, you are told the\n",
    "number and your total sum, and are asked whether you want another draw or not.**"
   ]
  },
  {
   "cell_type": "code",
   "execution_count": 3,
   "id": "04e12234",
   "metadata": {},
   "outputs": [
    {
     "name": "stdout",
     "output_type": "stream",
     "text": [
      "You got:  2\n",
      "Your score is now: 2 points!\n",
      "Another draw (y/n)? y\n",
      "Finished!\n",
      "You got:  4\n",
      "Your score is now: 6 points!\n",
      "Another draw (y/n)? y\n",
      "Finished!\n",
      "You got:  3\n",
      "Your score is now: 9 points!\n",
      "Another draw (y/n)? y\n",
      "Finished!\n",
      "You got:  4\n",
      "Your score is now: 13 points!\n",
      "Another draw (y/n)? y\n",
      "Finished!\n",
      "You got:  6\n",
      "Your score is now: 19 points!\n",
      "Another draw (y/n)? n\n",
      "Finished!\n"
     ]
    }
   ],
   "source": [
    "from random import randint\n",
    "\n",
    "upper_limit = 21\n",
    "not_finished = True\n",
    "sum_ = 0\n",
    "while not_finished:\n",
    "    next_number = randint(0, 10)\n",
    "    print(\"You got: \", next_number)\n",
    "    sum_ += next_number\n",
    "    if sum_> upper_limit:\n",
    "        print(\"Game over, you passed 21 (with your %d points)!\"\\\n",
    "        % sum_)\n",
    "        not_finished = False\n",
    "    else:\n",
    "        print(\"Your score is now: %d points!\" % (sum_))\n",
    "        answer = input('Another draw (y/n)? ')\n",
    "        if answer != 'y':\n",
    "            not_finished = False\n",
    "        print(\"Finished!\")"
   ]
  },
  {
   "cell_type": "markdown",
   "id": "631a8594",
   "metadata": {},
   "source": [
    "**5 - Create a multiplayer version of the game above where the results of each player are saved\n",
    "in a dictionary corresponding to the players' names, and announce the winners once each player has finished their turn. In case that they were all eliminated, label the winners but, also state that they all lost** "
   ]
  },
  {
   "cell_type": "code",
   "execution_count": 13,
   "id": "26ca8545",
   "metadata": {},
   "outputs": [
    {
     "name": "stdout",
     "output_type": "stream",
     "text": [
      "You got:  4\n",
      "Your score is now: 4 points!\n",
      "Another draw (y/n)? y\n",
      "You got:  2\n",
      "Your score is now: 6 points!\n",
      "Another draw (y/n)? y\n",
      "You got:  6\n",
      "Your score is now: 12 points!\n",
      "Another draw (y/n)? y\n",
      "You got:  5\n",
      "Your score is now: 17 points!\n",
      "Another draw (y/n)? y\n",
      "You got:  9\n",
      "Your turn is over, you passed 21 (with your 26 points)!\n",
      "\n",
      "The turn of the next player\n",
      "You got:  3\n",
      "Your score is now: 3 points!\n",
      "Another draw (y/n)? y\n",
      "You got:  8\n",
      "Your score is now: 11 points!\n",
      "Another draw (y/n)? y\n",
      "You got:  5\n",
      "Your score is now: 16 points!\n",
      "Another draw (y/n)? y\n",
      "You got:  3\n",
      "Your score is now: 19 points!\n",
      "Another draw (y/n)? y\n",
      "You got:  1\n",
      "Your score is now: 20 points!\n",
      "Another draw (y/n)? y\n",
      "You got:  0\n",
      "Your score is now: 20 points!\n",
      "Another draw (y/n)? y\n",
      "You got:  5\n",
      "Your turn is over, you passed 21 (with your 25 points)!\n",
      "\n",
      "The turn of the next player\n",
      "You got:  5\n",
      "Your score is now: 5 points!\n",
      "Another draw (y/n)? y\n",
      "You got:  3\n",
      "Your score is now: 8 points!\n",
      "Another draw (y/n)? y\n",
      "You got:  4\n",
      "Your score is now: 12 points!\n",
      "Another draw (y/n)? y\n",
      "You got:  8\n",
      "Your score is now: 20 points!\n",
      "Another draw (y/n)? y\n",
      "You got:  8\n",
      "Your turn is over, you passed 21 (with your 28 points)!\n",
      "GAME OVER\n",
      "[-1, -1, -1]\n",
      "The winners are: \n",
      "player1 ,score:  -1\n",
      "player2 ,score:  -1\n",
      "player3 ,score:  -1\n",
      "...even though they all lost\n"
     ]
    }
   ],
   "source": [
    "from random import randint\n",
    "\n",
    "nr_players=3\n",
    "players_dict=dict([[i, 'player'+str(i+1)]for i in range(nr_players)])\n",
    "scores=[]\n",
    "eliminated=0\n",
    "for player in range(nr_players):\n",
    "    upper_limit = 21\n",
    "    not_finished = True\n",
    "    sum_ = 0\n",
    "    while not_finished:\n",
    "        next_number = randint(0, 10)\n",
    "        print(\"You got: \", next_number)\n",
    "        sum_ += next_number\n",
    "        if sum_> upper_limit:\n",
    "            print(\"Your turn is over, you passed 21 (with your %d points)!\"\\\n",
    "            % sum_)\n",
    "            if player<nr_players-1:\n",
    "                print('\\nThe turn of the next player')\n",
    "            else:\n",
    "                print('GAME OVER')\n",
    "            sum_=-1\n",
    "            eliminated+=1\n",
    "            not_finished = False\n",
    "        else:\n",
    "            print(\"Your score is now: %d points!\" % (sum_))\n",
    "            answer = input('Another draw (y/n)? ')\n",
    "            if answer != 'y':\n",
    "                not_finished = False\n",
    "                if player<nr_players-1:\n",
    "                    print('\\nThe turn of the next player')\n",
    "                else:\n",
    "                    print('GAME OVER')\n",
    "                \n",
    "    scores.append(sum_)\n",
    "print(scores)\n",
    "m = max(scores)\n",
    "winners=[i for i, j in enumerate(scores) if j == m]\n",
    "print('The winners are: ')\n",
    "for winner in winners:\n",
    "    print(players_dict[winner], ',score: ', scores[winner])\n",
    "\n",
    "if eliminated==nr_players:\n",
    "    print('...even though they all lost')"
   ]
  },
  {
   "cell_type": "markdown",
   "id": "58e857cd",
   "metadata": {},
   "source": [
    "**6  Given two matrices the task is that we will have to create a program to multiply two matrices in\n",
    "python.**\n",
    "\n",
    "**6.1 : Using Simple Nested Loops to iterate through each row and each column.**"
   ]
  },
  {
   "cell_type": "code",
   "execution_count": 27,
   "id": "eb9bee8f",
   "metadata": {},
   "outputs": [],
   "source": [
    "# Program to multiply two matrices using nested loops\n",
    "import numpy as np\n",
    "# take a 3x3 matrix\n",
    "A = [[12, 7, 3],\n",
    "[4, 5, 6],\n",
    "[7, 8, 9]]\n",
    "# take a 3x4 matrix\n",
    "B = [[5, 8, 1, 2],\n",
    "[6, 7, 3, 0],\n",
    "[4, 5, 9, 1]]"
   ]
  },
  {
   "cell_type": "code",
   "execution_count": 28,
   "id": "1b7ad122",
   "metadata": {},
   "outputs": [],
   "source": [
    "result = np.zeros((len(A),len(B[0])))\n",
    "# iterating by row of A\n",
    "for i in range(len(A)):\n",
    "    # iterating by coloum by B\n",
    "    for j in range(len(B[0])):\n",
    "        # iterating by rows of B\n",
    "        for k in range(len(B)):\n",
    "            result[i][j] += A[i][k] * B[k][j]"
   ]
  },
  {
   "cell_type": "code",
   "execution_count": 30,
   "id": "4b2359d1",
   "metadata": {},
   "outputs": [
    {
     "name": "stdout",
     "output_type": "stream",
     "text": [
      "[114. 160.  60.  27.]\n",
      "[74. 97. 73. 14.]\n",
      "[119. 157. 112.  23.]\n"
     ]
    }
   ],
   "source": [
    "for r in result:\n",
    "    print(r)"
   ]
  },
  {
   "cell_type": "markdown",
   "id": "66cae665",
   "metadata": {},
   "source": [
    "**6.2 : Using list comprehension. (Hint : check zip)**"
   ]
  },
  {
   "cell_type": "code",
   "execution_count": 40,
   "id": "c2c8f8b2",
   "metadata": {},
   "outputs": [],
   "source": [
    "zip??"
   ]
  },
  {
   "cell_type": "code",
   "execution_count": 35,
   "id": "cbdbb18b",
   "metadata": {},
   "outputs": [],
   "source": [
    "A = [[12, 7, 3],\n",
    "[4, 5, 6],\n",
    "[7, 8, 9]]\n",
    "# take a 3x4 matrix\n",
    "B = [[5, 8, 1, 2],\n",
    "[6, 7, 3, 0],\n",
    "[4, 5, 9, 1]]"
   ]
  },
  {
   "cell_type": "code",
   "execution_count": 39,
   "id": "33c63097",
   "metadata": {},
   "outputs": [
    {
     "data": {
      "text/plain": [
       "[(5, 6, 4), (8, 7, 5), (1, 3, 9), (2, 0, 1)]"
      ]
     },
     "execution_count": 39,
     "metadata": {},
     "output_type": "execute_result"
    }
   ],
   "source": [
    "[B_col for B_col in zip(*B)]"
   ]
  },
  {
   "cell_type": "code",
   "execution_count": 33,
   "id": "8cbc0bbc",
   "metadata": {},
   "outputs": [],
   "source": [
    "result = [[sum(a * b for a, b in zip(A_row, B_col))\n",
    "for B_col in zip(*B)]\n",
    "for A_row in A]"
   ]
  },
  {
   "cell_type": "code",
   "execution_count": 34,
   "id": "baa16041",
   "metadata": {},
   "outputs": [
    {
     "name": "stdout",
     "output_type": "stream",
     "text": [
      "[114, 160, 60, 27]\n",
      "[74, 97, 73, 14]\n",
      "[119, 157, 112, 23]\n"
     ]
    }
   ],
   "source": [
    "for r in result:\n",
    "    print(r)"
   ]
  },
  {
   "cell_type": "markdown",
   "id": "c7880e46",
   "metadata": {},
   "source": [
    "**7- Take a name, for instance Harrison, and write a program that asks you to guess the name, and\n",
    "gives you one letter of the name at each iteration (starting from the first letter).In addition keep\n",
    "track of the number of guesses you had and print it at the end. Your program should stop if the\n",
    "number of guesses is greater than the number of letters in the name.**"
   ]
  },
  {
   "cell_type": "code",
   "execution_count": 42,
   "id": "795f9fc5",
   "metadata": {},
   "outputs": [
    {
     "name": "stdout",
     "output_type": "stream",
     "text": [
      "So I'm thinking of person's name. Try to guess it: Hendry\n",
      "Nope, that's not it! Hint: letter 1 is H. Guess again: Harry\n",
      "Nope, that's not it! Hint: letter 2 is a. Guess again: Hasky\n",
      "Nope, that's not it! Hint: letter 3 is r. Guess again: Harriet\n",
      "Nope, that's not it! Hint: letter 4 is r. Guess again: Harrison\n",
      "\n",
      "Great, you got it in 5 guesses!\n"
     ]
    }
   ],
   "source": [
    "name = 'Harrison'\n",
    "guess = input(\"So I'm thinking of person's name. Try to guess it: \")\n",
    "pos = 0\n",
    "while guess != name and pos < len(name):\n",
    "    print(\"Nope, that's not it! Hint: letter \", end='')\n",
    "    print(pos + 1, \"is\", name[pos] + \". \", end='')\n",
    "    guess = input(\"Guess again: \")\n",
    "    pos = pos + 1\n",
    "if pos == len(name) and name != guess:\n",
    "    print(\"Too bad, you couldn't get it. The name was\", name + \".\")\n",
    "else:\n",
    "    print(\"\\nGreat, you got it in\", pos + 1, \"guesses!\")\n"
   ]
  },
  {
   "cell_type": "code",
   "execution_count": null,
   "id": "ac6df8bc",
   "metadata": {},
   "outputs": [],
   "source": []
  },
  {
   "cell_type": "code",
   "execution_count": null,
   "id": "1949d32f",
   "metadata": {},
   "outputs": [],
   "source": []
  }
 ],
 "metadata": {
  "kernelspec": {
   "display_name": "Python 3 (ipykernel)",
   "language": "python",
   "name": "python3"
  },
  "language_info": {
   "codemirror_mode": {
    "name": "ipython",
    "version": 3
   },
   "file_extension": ".py",
   "mimetype": "text/x-python",
   "name": "python",
   "nbconvert_exporter": "python",
   "pygments_lexer": "ipython3",
   "version": "3.9.12"
  }
 },
 "nbformat": 4,
 "nbformat_minor": 5
}
