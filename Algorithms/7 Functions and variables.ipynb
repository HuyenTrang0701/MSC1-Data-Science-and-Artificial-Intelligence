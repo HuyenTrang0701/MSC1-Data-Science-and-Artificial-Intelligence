{
 "cells": [
  {
   "cell_type": "code",
   "execution_count": 1,
   "metadata": {},
   "outputs": [
    {
     "ename": "ValueError",
     "evalue": "invalid literal for int() with base 10: 'a'",
     "output_type": "error",
     "traceback": [
      "\u001b[0;31m---------------------------------------------------------------------------\u001b[0m",
      "\u001b[0;31mValueError\u001b[0m                                Traceback (most recent call last)",
      "\u001b[0;32m/tmp/ipykernel_20819/3219923713.py\u001b[0m in \u001b[0;36m<module>\u001b[0;34m\u001b[0m\n\u001b[0;32m----> 1\u001b[0;31m \u001b[0mprint\u001b[0m\u001b[0;34m(\u001b[0m\u001b[0mint\u001b[0m\u001b[0;34m(\u001b[0m\u001b[0;34m'a'\u001b[0m\u001b[0;34m)\u001b[0m\u001b[0;34m)\u001b[0m\u001b[0;34m\u001b[0m\u001b[0;34m\u001b[0m\u001b[0m\n\u001b[0m",
      "\u001b[0;31mValueError\u001b[0m: invalid literal for int() with base 10: 'a'"
     ]
    }
   ],
   "source": [
    "print(int('a'))"
   ]
  },
  {
   "cell_type": "code",
   "execution_count": 2,
   "metadata": {},
   "outputs": [
    {
     "name": "stdout",
     "output_type": "stream",
     "text": [
      "1\n"
     ]
    }
   ],
   "source": [
    "try:\n",
    "    print(int('a'))\n",
    "except:\n",
    "    print(1)"
   ]
  },
  {
   "cell_type": "code",
   "execution_count": 3,
   "metadata": {},
   "outputs": [],
   "source": [
    "x=['a']\n",
    "y=x"
   ]
  },
  {
   "cell_type": "code",
   "execution_count": 4,
   "metadata": {},
   "outputs": [
    {
     "data": {
      "text/plain": [
       "True"
      ]
     },
     "execution_count": 4,
     "metadata": {},
     "output_type": "execute_result"
    }
   ],
   "source": [
    "x is y"
   ]
  },
  {
   "cell_type": "code",
   "execution_count": 5,
   "metadata": {},
   "outputs": [
    {
     "data": {
      "text/plain": [
       "True"
      ]
     },
     "execution_count": 5,
     "metadata": {},
     "output_type": "execute_result"
    }
   ],
   "source": [
    "x==y"
   ]
  },
  {
   "cell_type": "code",
   "execution_count": 6,
   "metadata": {},
   "outputs": [],
   "source": [
    "x=['a']\n",
    "y=['a']"
   ]
  },
  {
   "cell_type": "code",
   "execution_count": 7,
   "metadata": {},
   "outputs": [
    {
     "data": {
      "text/plain": [
       "False"
      ]
     },
     "execution_count": 7,
     "metadata": {},
     "output_type": "execute_result"
    }
   ],
   "source": [
    "x is y"
   ]
  },
  {
   "cell_type": "code",
   "execution_count": 8,
   "metadata": {},
   "outputs": [
    {
     "data": {
      "text/plain": [
       "True"
      ]
     },
     "execution_count": 8,
     "metadata": {},
     "output_type": "execute_result"
    }
   ],
   "source": [
    "x == y"
   ]
  },
  {
   "cell_type": "markdown",
   "metadata": {
    "id": "IwOeVn817cRq"
   },
   "source": [
    "**[Defining a function ](https://www.tutorialspoint.com/python/python_functions.htm)**\n",
    "\n"
   ]
  },
  {
   "cell_type": "markdown",
   "metadata": {
    "id": "dc-2YWw48Oe5"
   },
   "source": [
    "A function is a block of organized, reusable code that is used to perform a single, related action. Functions provide better modularity for your application and a high degree of code reusing.\n",
    "\n",
    "As you already know, Python gives you many built-in functions like print(), etc. but you can also create your own functions. These functions are called user-defined functions.\n",
    "Defining a Function\n",
    "\n",
    "You can define functions to provide the required functionality. Here are simple rules to define a function in Python.\n",
    "\n",
    "    * Function blocks begin with the keyword def followed by the function name and parentheses ( ( ) ).\n",
    "\n",
    "    * Any input parameters or arguments should be placed within these parentheses. You can also define parameters inside these parentheses.\n",
    "\n",
    "    * The first statement of a function can be an optional statement - the documentation string of the function or docstring.\n",
    "\n",
    "    * The code block within every function starts with a colon (:) and is indented.\n",
    "\n",
    "    * The statement return [expression] exits a function, optionally passing back an expression to the caller. A return statement with no arguments is the same as return None.\n"
   ]
  },
  {
   "cell_type": "markdown",
   "metadata": {
    "id": "F2LCxcua8ep9"
   },
   "source": [
    "Syntax\n",
    "\n",
    "```\n",
    "def functionname( parameters ):\n",
    "   \"function_docstring\"\n",
    "   function_suite\n",
    "   return [expression]\n",
    "```\n",
    "\n",
    "By default, parameters have a positional behavior and you need to inform them in the same order that they were defined."
   ]
  },
  {
   "cell_type": "code",
   "execution_count": 9,
   "metadata": {},
   "outputs": [],
   "source": [
    "def printme(arg):\n",
    "    \"This prints a passed string into this function\"\n",
    "    print(arg)\n",
    "    return arg"
   ]
  },
  {
   "cell_type": "markdown",
   "metadata": {
    "id": "vPhbX7L-9AWl"
   },
   "source": [
    "**Calling a Function**\n",
    "\n",
    "Defining a function only gives it a name, specifies the parameters that are to be included in the function and structures the blocks of code.\n",
    "\n",
    "Once the basic structure of a function is finalized, you can execute it by calling it from another function or directly from the Python prompt. Following is the example to call printme() function −"
   ]
  },
  {
   "cell_type": "code",
   "execution_count": 10,
   "metadata": {
    "colab": {
     "base_uri": "https://localhost:8080/"
    },
    "executionInfo": {
     "elapsed": 20,
     "status": "ok",
     "timestamp": 1631792465522,
     "user": {
      "displayName": "Hind Dadoun",
      "photoUrl": "https://lh3.googleusercontent.com/a/default-user=s64",
      "userId": "05519274149180093824"
     },
     "user_tz": -120
    },
    "id": "gacC8BWk8nIR",
    "outputId": "d94030ac-b2d1-47af-cc40-dbd069b5307f"
   },
   "outputs": [
    {
     "name": "stdout",
     "output_type": "stream",
     "text": [
      "5\n"
     ]
    },
    {
     "data": {
      "text/plain": [
       "5"
      ]
     },
     "execution_count": 10,
     "metadata": {},
     "output_type": "execute_result"
    }
   ],
   "source": [
    "five = printme(5)\n",
    "five"
   ]
  },
  {
   "cell_type": "code",
   "execution_count": 11,
   "metadata": {
    "colab": {
     "base_uri": "https://localhost:8080/"
    },
    "executionInfo": {
     "elapsed": 304,
     "status": "ok",
     "timestamp": 1631792491977,
     "user": {
      "displayName": "Hind Dadoun",
      "photoUrl": "https://lh3.googleusercontent.com/a/default-user=s64",
      "userId": "05519274149180093824"
     },
     "user_tz": -120
    },
    "id": "FZP1WYqUaRys",
    "outputId": "6a08f62c-adfe-4dfc-ebc0-46ef2beaa2b2",
    "scrolled": true
   },
   "outputs": [
    {
     "name": "stdout",
     "output_type": "stream",
     "text": [
      "5 <class 'int'>\n"
     ]
    }
   ],
   "source": [
    "print(five,type(five))"
   ]
  },
  {
   "cell_type": "code",
   "execution_count": 12,
   "metadata": {},
   "outputs": [],
   "source": [
    "printme?"
   ]
  },
  {
   "cell_type": "markdown",
   "metadata": {
    "id": "OCD6c0Y8_k3B"
   },
   "source": [
    "**Function Arguments**\n",
    "\n",
    "You can call a function by using the following types of formal arguments −\n",
    "\n",
    "    Required arguments\n",
    "    Keyword arguments\n",
    "    Default arguments\n",
    "    Variable-length arguments\n",
    "\n",
    "**Required arguments**\n",
    "\n",
    "Required arguments are the arguments passed to a function in correct positional order. Here, the number of arguments in the function call should match exactly with the function definition.\n",
    "\n",
    "To call the function printme(), you definitely need to pass one argument, otherwise it gives a syntax error as follows −"
   ]
  },
  {
   "cell_type": "code",
   "execution_count": 13,
   "metadata": {
    "id": "mV3d28Y-9lzS"
   },
   "outputs": [
    {
     "ename": "TypeError",
     "evalue": "printme() missing 1 required positional argument: 'arg1'",
     "output_type": "error",
     "traceback": [
      "\u001b[0;31m---------------------------------------------------------------------------\u001b[0m",
      "\u001b[0;31mTypeError\u001b[0m                                 Traceback (most recent call last)",
      "\u001b[0;32m/tmp/ipykernel_20819/2490984035.py\u001b[0m in \u001b[0;36m<module>\u001b[0;34m\u001b[0m\n\u001b[1;32m      3\u001b[0m     \u001b[0mprint\u001b[0m\u001b[0;34m(\u001b[0m\u001b[0mstring\u001b[0m\u001b[0;34m)\u001b[0m\u001b[0;34m\u001b[0m\u001b[0;34m\u001b[0m\u001b[0m\n\u001b[1;32m      4\u001b[0m \u001b[0;34m\u001b[0m\u001b[0m\n\u001b[0;32m----> 5\u001b[0;31m \u001b[0mprintme\u001b[0m\u001b[0;34m(\u001b[0m\u001b[0;34m)\u001b[0m\u001b[0;34m\u001b[0m\u001b[0;34m\u001b[0m\u001b[0m\n\u001b[0m",
      "\u001b[0;31mTypeError\u001b[0m: printme() missing 1 required positional argument: 'arg1'"
     ]
    }
   ],
   "source": [
    "# Function definition is here\n",
    "def printme(arg1,string=\"hello\" ):\n",
    "    print(string)\n",
    "\n",
    "printme()"
   ]
  },
  {
   "cell_type": "markdown",
   "metadata": {
    "id": "ps-T3KWk_3_j"
   },
   "source": [
    "**Keyword arguments**\n",
    "\n",
    "Keyword arguments are related to the function calls. When you use keyword arguments in a function call, the caller identifies the arguments by the parameter name.\n",
    "\n",
    "This allows you to skip arguments or place them out of order because the Python interpreter is able to use the keywords provided to match the values with parameters. You can also make keyword calls to the printme() function in the following ways −\n"
   ]
  },
  {
   "cell_type": "code",
   "execution_count": 14,
   "metadata": {
    "colab": {
     "base_uri": "https://localhost:8080/",
     "height": 34
    },
    "executionInfo": {
     "elapsed": 767,
     "status": "ok",
     "timestamp": 1600680641592,
     "user": {
      "displayName": "Hind Dadoun",
      "photoUrl": "",
      "userId": "05519274149180093824"
     },
     "user_tz": -120
    },
    "id": "e_p6DpdW_vF2",
    "outputId": "a03d5faa-b928-4cda-88f8-62452ed201d8"
   },
   "outputs": [
    {
     "name": "stdout",
     "output_type": "stream",
     "text": [
      "My string\n"
     ]
    }
   ],
   "source": [
    "# Function definition is here\n",
    "def printme( string ):\n",
    "    print(string)\n",
    "\n",
    "# Now you can call printme function\n",
    "printme(string = \"My string\")"
   ]
  },
  {
   "cell_type": "code",
   "execution_count": 15,
   "metadata": {
    "colab": {
     "base_uri": "https://localhost:8080/",
     "height": 52
    },
    "executionInfo": {
     "elapsed": 924,
     "status": "ok",
     "timestamp": 1600680669350,
     "user": {
      "displayName": "Hind Dadoun",
      "photoUrl": "",
      "userId": "05519274149180093824"
     },
     "user_tz": -120
    },
    "id": "oVg9mi41AEDo",
    "outputId": "9c52e6de-f212-4804-ca84-469d18522cb8"
   },
   "outputs": [
    {
     "name": "stdout",
     "output_type": "stream",
     "text": [
      "Name:  bob\n",
      "Age  50\n"
     ]
    }
   ],
   "source": [
    "# Function definition is here\n",
    "def printinfo( name, age ):\n",
    "    print(\"Name: \", name)\n",
    "    print(\"Age \", age)\n",
    "\n",
    "\n",
    "# Now you can call printinfo function\n",
    "printinfo(age=50, name=\"bob\" )"
   ]
  },
  {
   "cell_type": "code",
   "execution_count": 16,
   "metadata": {},
   "outputs": [
    {
     "name": "stdout",
     "output_type": "stream",
     "text": [
      "Name:  50\n",
      "Age  bob\n"
     ]
    }
   ],
   "source": [
    "# Function definition is here\n",
    "def printinfo( name, age ):\n",
    "    print(\"Name: \", name)\n",
    "    print(\"Age \", age)\n",
    "\n",
    "\n",
    "# Now you can call printinfo function\n",
    "printinfo(50, \"bob\" )"
   ]
  },
  {
   "cell_type": "markdown",
   "metadata": {
    "id": "BzsMQaBoAOSA"
   },
   "source": [
    "**Default arguments**\n",
    "\n",
    "A default argument is an argument that assumes a default value if a value is not provided in the function call for that argument. The following example gives an idea on default arguments, it prints default age if it is not passed −\n"
   ]
  },
  {
   "cell_type": "code",
   "execution_count": 17,
   "metadata": {
    "colab": {
     "base_uri": "https://localhost:8080/",
     "height": 86
    },
    "executionInfo": {
     "elapsed": 681,
     "status": "ok",
     "timestamp": 1600759979779,
     "user": {
      "displayName": "Hind Dadoun",
      "photoUrl": "",
      "userId": "05519274149180093824"
     },
     "user_tz": -120
    },
    "id": "zKMUVRpPAKy3",
    "outputId": "6f9265df-0bd1-4775-9697-057373f092db",
    "scrolled": true
   },
   "outputs": [
    {
     "name": "stdout",
     "output_type": "stream",
     "text": [
      "Name:  bob\n",
      "Age  50\n",
      "Name:  bob\n",
      "Age  35\n",
      "Name:  bob\n",
      "Age  35\n"
     ]
    }
   ],
   "source": [
    "# Function definition is here\n",
    "def printinfo( name, age = 35 ):\n",
    "    print(\"Name: \", name)\n",
    "    print(\"Age \", age)\n",
    "    \n",
    "# Now you can call printinfo function\n",
    "printinfo( age=50, name=\"bob\" )\n",
    "printinfo( name=\"bob\" )\n",
    "printinfo( \"bob\" )"
   ]
  },
  {
   "cell_type": "code",
   "execution_count": 18,
   "metadata": {},
   "outputs": [
    {
     "ename": "SyntaxError",
     "evalue": "positional argument follows keyword argument (3060795235.py, line 1)",
     "output_type": "error",
     "traceback": [
      "\u001b[0;36m  File \u001b[0;32m\"/tmp/ipykernel_20819/3060795235.py\"\u001b[0;36m, line \u001b[0;32m1\u001b[0m\n\u001b[0;31m    print(age=50, 'bob')#This will not work though\u001b[0m\n\u001b[0m                       ^\u001b[0m\n\u001b[0;31mSyntaxError\u001b[0m\u001b[0;31m:\u001b[0m positional argument follows keyword argument\n"
     ]
    }
   ],
   "source": [
    "print(age=50, 'bob')#This will not work though"
   ]
  },
  {
   "cell_type": "markdown",
   "metadata": {
    "id": "flyqXl10BfI8"
   },
   "source": [
    "**Variable-length arguments**\n",
    "\n",
    "You may need to process a function for more arguments than you specified while defining the function. These arguments are called variable-length arguments and are not named in the function definition, unlike required and default arguments.\n",
    "\n",
    "Syntax for a function with non-keyword variable arguments is this :\n",
    "\n",
    "\n",
    "\n",
    "```\n",
    "def functionname([formal_args,] *var_args_tuple ):\n",
    "   \"function_docstring\"\n",
    "   function_suite\n",
    "   return [expression]\n",
    "```\n",
    "An asterisk (*) is placed before the variable name that holds the values of all nonkeyword variable arguments. This tuple remains empty if no additional arguments are specified during the function call. Following is a simple example −\n",
    "\n",
    "\n"
   ]
  },
  {
   "cell_type": "code",
   "execution_count": 19,
   "metadata": {},
   "outputs": [
    {
     "name": "stdout",
     "output_type": "stream",
     "text": [
      "Output is: \n",
      "(1, 2, 3)\n",
      "1\n",
      "2\n",
      "3\n"
     ]
    }
   ],
   "source": [
    "# Function definition is here\n",
    "def printinfo( vartuple ):\n",
    "    print(\"Output is: \")\n",
    "    print(vartuple)\n",
    "    for var in vartuple:\n",
    "        print(var)\n",
    "\n",
    "arg=(1,2,3)\n",
    "printinfo(arg)"
   ]
  },
  {
   "cell_type": "code",
   "execution_count": 20,
   "metadata": {},
   "outputs": [
    {
     "name": "stdout",
     "output_type": "stream",
     "text": [
      "Output is: \n",
      "(1, 2, 3)\n",
      "1\n",
      "2\n",
      "3\n"
     ]
    }
   ],
   "source": [
    "# Function definition is here\n",
    "def printinfo( *vartuple ):\n",
    "    print(\"Output is: \")\n",
    "    print(vartuple)\n",
    "    for var in vartuple:\n",
    "        print(var)\n",
    "\n",
    "printinfo(1,2,3)"
   ]
  },
  {
   "cell_type": "code",
   "execution_count": 21,
   "metadata": {},
   "outputs": [
    {
     "name": "stdout",
     "output_type": "stream",
     "text": [
      "Output is: \n",
      "{'a': 1, 'b': 2, 'c': 3}\n"
     ]
    }
   ],
   "source": [
    "# Function definition is here\n",
    "def printinfo(vartuple):\n",
    "    print(\"Output is: \")\n",
    "    print(vartuple)\n",
    "\n",
    "arg={'a':1,'b':2,'c':3}\n",
    "printinfo(arg)"
   ]
  },
  {
   "cell_type": "code",
   "execution_count": 22,
   "metadata": {
    "scrolled": true
   },
   "outputs": [
    {
     "name": "stdout",
     "output_type": "stream",
     "text": [
      "Output is: \n",
      "{'a': 1, 'b': 2, 'c': 3}\n"
     ]
    }
   ],
   "source": [
    "# Function definition is here\n",
    "def printinfo(**vartuple):\n",
    "    print(\"Output is: \")\n",
    "    print(vartuple)\n",
    "\n",
    "printinfo(a=1,b=2,c=3)"
   ]
  },
  {
   "cell_type": "code",
   "execution_count": 23,
   "metadata": {
    "colab": {
     "base_uri": "https://localhost:8080/",
     "height": 86
    },
    "executionInfo": {
     "elapsed": 525,
     "status": "ok",
     "timestamp": 1600760058942,
     "user": {
      "displayName": "Hind Dadoun",
      "photoUrl": "",
      "userId": "05519274149180093824"
     },
     "user_tz": -120
    },
    "id": "zc6q9B3lAT3i",
    "outputId": "635a5d51-b598-460b-ff57-9090ac42ed8e"
   },
   "outputs": [
    {
     "name": "stdout",
     "output_type": "stream",
     "text": [
      "Output is: \n",
      "10\n",
      "5\n",
      "()\n"
     ]
    }
   ],
   "source": [
    "# Function definition is here\n",
    "def printinfo( arg1, a=5 ,*vartuple):\n",
    "    print(\"Output is: \")\n",
    "    print(arg1)\n",
    "    print(a)\n",
    "    print(vartuple)\n",
    "\n",
    "\n",
    "# Now you can call printinfo function\n",
    "printinfo(arg1 = 10)"
   ]
  },
  {
   "cell_type": "code",
   "execution_count": 24,
   "metadata": {},
   "outputs": [
    {
     "name": "stdout",
     "output_type": "stream",
     "text": [
      "Output is: \n",
      "70\n",
      "60\n",
      "(50, 8)\n"
     ]
    }
   ],
   "source": [
    "printinfo(70, 60, 50, 8 )"
   ]
  },
  {
   "cell_type": "code",
   "execution_count": 25,
   "metadata": {},
   "outputs": [
    {
     "name": "stdout",
     "output_type": "stream",
     "text": [
      "Output is: \n",
      "10\n",
      "5\n",
      "()\n"
     ]
    }
   ],
   "source": [
    "# Function definition is here\n",
    "def printinfo( arg1,*vartuple, a=5):\n",
    "    print(\"Output is: \")\n",
    "    print(arg1)\n",
    "    print(a)\n",
    "    print(vartuple)\n",
    "\n",
    "\n",
    "# Now you can call printinfo function\n",
    "printinfo(arg1 = 10)"
   ]
  },
  {
   "cell_type": "code",
   "execution_count": 26,
   "metadata": {
    "scrolled": true
   },
   "outputs": [
    {
     "name": "stdout",
     "output_type": "stream",
     "text": [
      "Output is: \n",
      "70\n",
      "5\n",
      "(60, 50, 8)\n"
     ]
    }
   ],
   "source": [
    "printinfo(70, 60, 50, 8 )"
   ]
  },
  {
   "cell_type": "code",
   "execution_count": 27,
   "metadata": {},
   "outputs": [
    {
     "name": "stdout",
     "output_type": "stream",
     "text": [
      "Output is: \n",
      "70\n",
      "(60, 50, 8)\n",
      "5\n",
      "{'c': 3, 'd': 4}\n"
     ]
    }
   ],
   "source": [
    "# Function definition is here\n",
    "def printinfo( arg1,*vartuple, a=5 ,**kvartup):\n",
    "    print(\"Output is: \")\n",
    "    print(arg1)\n",
    "    print(vartuple)\n",
    "    print(a)\n",
    "    print(kvartup)\n",
    "\n",
    "\n",
    "# Now you can call printinfo function\n",
    "printinfo(70, 60, 50, 8, c=3,d=4 )"
   ]
  },
  {
   "cell_type": "code",
   "execution_count": 28,
   "metadata": {},
   "outputs": [
    {
     "name": "stdout",
     "output_type": "stream",
     "text": [
      "Output is: \n",
      "70\n",
      "5\n",
      "(60, 50, 8, 3, 4)\n",
      "{}\n"
     ]
    }
   ],
   "source": [
    "# Function definition is here\n",
    "def printinfo( arg1,*vartuple, a=5 ,**kvartup):\n",
    "    \"This prints a variable passed arguments\"\n",
    "    print(\"Output is: \")\n",
    "    print(arg1)\n",
    "    print(a)\n",
    "    print(vartuple)\n",
    "    print(kvartup)\n",
    "\n",
    "\n",
    "# Now you can call printinfo function\n",
    "printinfo(70, 60, 50, 8, 3, 4 )"
   ]
  },
  {
   "cell_type": "code",
   "execution_count": null,
   "metadata": {},
   "outputs": [],
   "source": []
  },
  {
   "cell_type": "code",
   "execution_count": 29,
   "metadata": {},
   "outputs": [
    {
     "name": "stdout",
     "output_type": "stream",
     "text": [
      "Output is: \n",
      "70\n",
      "5\n",
      "(60, 50, 8)\n",
      "{'c': 3, 'd': 4}\n"
     ]
    }
   ],
   "source": [
    "# Function definition is here\n",
    "def printinfo( arg1,*vartuple, a=5 ,**kvartup):\n",
    "    \"This prints a variable passed arguments\"\n",
    "    print(\"Output is: \")\n",
    "    print(arg1)\n",
    "    print(a)\n",
    "    print(vartuple)\n",
    "    print(kvartup)\n",
    "\n",
    "\n",
    "# Now you can call printinfo function\n",
    "printinfo(70, 60, 50, 8, c=3,d=4 )"
   ]
  },
  {
   "cell_type": "code",
   "execution_count": 30,
   "metadata": {},
   "outputs": [
    {
     "name": "stdout",
     "output_type": "stream",
     "text": [
      "Output is: \n",
      "70\n",
      "60\n",
      "(50, 8, 3, 4)\n",
      "{}\n"
     ]
    }
   ],
   "source": [
    "# Function definition is here\n",
    "def printinfo( arg1, a=5,*vartuple ,**kvartup):\n",
    "    \"This prints a variable passed arguments\"\n",
    "    print(\"Output is: \")\n",
    "    print(arg1)\n",
    "    print(a)\n",
    "    print(vartuple)\n",
    "    print(kvartup)\n",
    "\n",
    "\n",
    "# Now you can call printinfo function\n",
    "printinfo(70, 60, 50, 8, 3, 4 )"
   ]
  },
  {
   "cell_type": "code",
   "execution_count": null,
   "metadata": {},
   "outputs": [],
   "source": []
  },
  {
   "cell_type": "code",
   "execution_count": null,
   "metadata": {},
   "outputs": [],
   "source": []
  },
  {
   "cell_type": "code",
   "execution_count": 31,
   "metadata": {},
   "outputs": [
    {
     "name": "stdout",
     "output_type": "stream",
     "text": [
      "1 2 3\n"
     ]
    }
   ],
   "source": [
    "# Function definition is here\n",
    "def printinfo(a, b, c):\n",
    "    print(a, b, c)\n",
    "\n",
    "arg=[1,2,3]\n",
    "printinfo(*arg )"
   ]
  },
  {
   "cell_type": "code",
   "execution_count": 32,
   "metadata": {},
   "outputs": [
    {
     "name": "stdout",
     "output_type": "stream",
     "text": [
      "1 2 3\n"
     ]
    }
   ],
   "source": [
    "# Function definition is here\n",
    "def printinfo(a, c, b):\n",
    "    print(a, b, c)\n",
    "\n",
    "karg={'a':1,'b':2,'c':3}\n",
    "printinfo(**karg )"
   ]
  },
  {
   "cell_type": "code",
   "execution_count": null,
   "metadata": {},
   "outputs": [],
   "source": []
  },
  {
   "cell_type": "code",
   "execution_count": 33,
   "metadata": {},
   "outputs": [
    {
     "ename": "TypeError",
     "evalue": "printinfo() takes 1 positional argument but 3 were given",
     "output_type": "error",
     "traceback": [
      "\u001b[0;31m---------------------------------------------------------------------------\u001b[0m",
      "\u001b[0;31mTypeError\u001b[0m                                 Traceback (most recent call last)",
      "\u001b[0;32m/tmp/ipykernel_20819/4075665731.py\u001b[0m in \u001b[0;36m<module>\u001b[0;34m\u001b[0m\n\u001b[1;32m      4\u001b[0m \u001b[0;34m\u001b[0m\u001b[0m\n\u001b[1;32m      5\u001b[0m \u001b[0marg\u001b[0m\u001b[0;34m=\u001b[0m\u001b[0;34m[\u001b[0m\u001b[0;36m1\u001b[0m\u001b[0;34m,\u001b[0m\u001b[0;36m2\u001b[0m\u001b[0;34m,\u001b[0m\u001b[0;36m3\u001b[0m\u001b[0;34m]\u001b[0m\u001b[0;34m\u001b[0m\u001b[0;34m\u001b[0m\u001b[0m\n\u001b[0;32m----> 6\u001b[0;31m \u001b[0mprintinfo\u001b[0m\u001b[0;34m(\u001b[0m\u001b[0;34m*\u001b[0m\u001b[0marg\u001b[0m \u001b[0;34m)\u001b[0m\u001b[0;34m\u001b[0m\u001b[0;34m\u001b[0m\u001b[0m\n\u001b[0m",
      "\u001b[0;31mTypeError\u001b[0m: printinfo() takes 1 positional argument but 3 were given"
     ]
    }
   ],
   "source": [
    "# Function definition is here\n",
    "def printinfo(a):\n",
    "    print(a)\n",
    "\n",
    "arg=[1,2,3]\n",
    "printinfo(*arg )"
   ]
  },
  {
   "cell_type": "code",
   "execution_count": 34,
   "metadata": {},
   "outputs": [
    {
     "name": "stdout",
     "output_type": "stream",
     "text": [
      "(1, 2, 3)\n"
     ]
    }
   ],
   "source": [
    "# Function definition is here\n",
    "def printinfo(*a):\n",
    "    \"This prints a variable passed arguments\"\n",
    "    print(a)\n",
    "\n",
    "arg=[1,2,3]\n",
    "printinfo(*arg )"
   ]
  },
  {
   "cell_type": "code",
   "execution_count": 35,
   "metadata": {},
   "outputs": [
    {
     "name": "stdout",
     "output_type": "stream",
     "text": [
      "([1, 2, 3],)\n"
     ]
    }
   ],
   "source": [
    "# Function definition is here\n",
    "def printinfo(*a):\n",
    "    \"This prints a variable passed arguments\"\n",
    "    print(a)\n",
    "\n",
    "arg=[1,2,3]\n",
    "printinfo(arg)"
   ]
  },
  {
   "cell_type": "markdown",
   "metadata": {
    "id": "vrukdg3zEZ8j"
   },
   "source": [
    "**The return Statement**\n",
    "\n",
    "The statement return [expression] exits a function, optionally passing back an expression to the caller. A return statement with no arguments is the same as return None.\n",
    "\n",
    "All the above examples are not returning any value. You can return a value from a function as follows −\n"
   ]
  },
  {
   "cell_type": "code",
   "execution_count": 36,
   "metadata": {
    "colab": {
     "base_uri": "https://localhost:8080/"
    },
    "executionInfo": {
     "elapsed": 320,
     "status": "ok",
     "timestamp": 1631793289883,
     "user": {
      "displayName": "Hind Dadoun",
      "photoUrl": "https://lh3.googleusercontent.com/a/default-user=s64",
      "userId": "05519274149180093824"
     },
     "user_tz": -120
    },
    "id": "ESeMJWA-E8PN",
    "outputId": "1dc4ffcf-4232-46fa-b637-00405d3ffe48"
   },
   "outputs": [
    {
     "name": "stdout",
     "output_type": "stream",
     "text": [
      "Inside the function :  30\n",
      "Inside the function :  30\n",
      "Outside the function :  30\n",
      "<class 'tuple'>\n",
      "(30, 10, 20)\n"
     ]
    }
   ],
   "source": [
    "def sum_(arg1, arg2 ):\n",
    "    # Add both the parameters and return them.\"\n",
    "    total = arg1 + arg2\n",
    "    print(\"Inside the function : \", total)\n",
    "    return total,arg1,arg2\n",
    "\n",
    "# Now you can call sum function\n",
    "total,arg1,arg2 = sum_( 10, 20 )\n",
    "result = sum_(10,20)\n",
    "print(\"Outside the function : \", total)\n",
    "print(type(result))\n",
    "print(result)"
   ]
  },
  {
   "cell_type": "markdown",
   "metadata": {
    "id": "07ZZqtwpFEFC"
   },
   "source": [
    "## Scope of Variables\n",
    "\n",
    "All variables in a program may not be accessible at all locations in that program. This depends on where you have declared a variable.\n",
    "\n",
    "The scope of a variable determines the portion of the program where you can access a particular identifier. There are two basic scopes of variables in Python −\n",
    "\n",
    "  * Global variables\n",
    "  * Local variables\n",
    "\n",
    "## Global vs. Local variables\n",
    "\n",
    "Variables that are defined inside a function body have a local scope, and those defined outside have a global scope.\n",
    "\n",
    "This means that local variables can be accessed only inside the function in which they are declared, whereas global variables can be accessed throughout the program body by all functions. When you call a function, the variables declared inside it are brought into scope. The following is a simple example −"
   ]
  },
  {
   "cell_type": "code",
   "execution_count": 37,
   "metadata": {
    "colab": {
     "base_uri": "https://localhost:8080/",
     "height": 52
    },
    "executionInfo": {
     "elapsed": 501,
     "status": "ok",
     "timestamp": 1600760370851,
     "user": {
      "displayName": "Hind Dadoun",
      "photoUrl": "",
      "userId": "05519274149180093824"
     },
     "user_tz": -120
    },
    "id": "-TwcRRK8FRQX",
    "outputId": "99b63ad5-47cf-4040-809d-f26401931aee"
   },
   "outputs": [
    {
     "name": "stdout",
     "output_type": "stream",
     "text": [
      "I love Paris in the summer!\n"
     ]
    }
   ],
   "source": [
    "def f(): \n",
    "    print(s) \n",
    "s = \"I love Paris in the summer!\"\n",
    "f()"
   ]
  },
  {
   "cell_type": "code",
   "execution_count": 38,
   "metadata": {},
   "outputs": [
    {
     "name": "stdout",
     "output_type": "stream",
     "text": [
      "I love London!\n",
      "I love Paris!\n"
     ]
    }
   ],
   "source": [
    "def f(): \n",
    "    s = \"I love London!\"\n",
    "    print(s) \n",
    "\n",
    "s = \"I love Paris!\" \n",
    "f()\n",
    "print(s)"
   ]
  },
  {
   "cell_type": "code",
   "execution_count": 39,
   "metadata": {},
   "outputs": [
    {
     "ename": "UnboundLocalError",
     "evalue": "local variable 's' referenced before assignment",
     "output_type": "error",
     "traceback": [
      "\u001b[0;31m---------------------------------------------------------------------------\u001b[0m",
      "\u001b[0;31mUnboundLocalError\u001b[0m                         Traceback (most recent call last)",
      "\u001b[0;32m/tmp/ipykernel_20819/802683882.py\u001b[0m in \u001b[0;36m<module>\u001b[0;34m\u001b[0m\n\u001b[1;32m      4\u001b[0m     \u001b[0mprint\u001b[0m\u001b[0;34m(\u001b[0m\u001b[0ms\u001b[0m\u001b[0;34m)\u001b[0m\u001b[0;34m\u001b[0m\u001b[0;34m\u001b[0m\u001b[0m\n\u001b[1;32m      5\u001b[0m \u001b[0ms\u001b[0m \u001b[0;34m=\u001b[0m \u001b[0;34m\"I love Paris!\"\u001b[0m\u001b[0;34m\u001b[0m\u001b[0;34m\u001b[0m\u001b[0m\n\u001b[0;32m----> 6\u001b[0;31m \u001b[0mf\u001b[0m\u001b[0;34m(\u001b[0m\u001b[0;34m)\u001b[0m\u001b[0;34m\u001b[0m\u001b[0;34m\u001b[0m\u001b[0m\n\u001b[0m",
      "\u001b[0;32m/tmp/ipykernel_20819/802683882.py\u001b[0m in \u001b[0;36mf\u001b[0;34m()\u001b[0m\n\u001b[1;32m      1\u001b[0m \u001b[0;32mdef\u001b[0m \u001b[0mf\u001b[0m\u001b[0;34m(\u001b[0m\u001b[0;34m)\u001b[0m\u001b[0;34m:\u001b[0m\u001b[0;34m\u001b[0m\u001b[0;34m\u001b[0m\u001b[0m\n\u001b[0;32m----> 2\u001b[0;31m     \u001b[0mprint\u001b[0m\u001b[0;34m(\u001b[0m\u001b[0ms\u001b[0m\u001b[0;34m)\u001b[0m\u001b[0;34m\u001b[0m\u001b[0;34m\u001b[0m\u001b[0m\n\u001b[0m\u001b[1;32m      3\u001b[0m     \u001b[0ms\u001b[0m \u001b[0;34m=\u001b[0m \u001b[0;34m\"I love London!\"\u001b[0m\u001b[0;34m\u001b[0m\u001b[0;34m\u001b[0m\u001b[0m\n\u001b[1;32m      4\u001b[0m     \u001b[0mprint\u001b[0m\u001b[0;34m(\u001b[0m\u001b[0ms\u001b[0m\u001b[0;34m)\u001b[0m\u001b[0;34m\u001b[0m\u001b[0;34m\u001b[0m\u001b[0m\n\u001b[1;32m      5\u001b[0m \u001b[0ms\u001b[0m \u001b[0;34m=\u001b[0m \u001b[0;34m\"I love Paris!\"\u001b[0m\u001b[0;34m\u001b[0m\u001b[0;34m\u001b[0m\u001b[0m\n",
      "\u001b[0;31mUnboundLocalError\u001b[0m: local variable 's' referenced before assignment"
     ]
    }
   ],
   "source": [
    "def f(): \n",
    "    print(s)\n",
    "    s = \"I love London!\"\n",
    "    print(s)\n",
    "s = \"I love Paris!\"\n",
    "f()"
   ]
  },
  {
   "cell_type": "code",
   "execution_count": 40,
   "metadata": {},
   "outputs": [
    {
     "name": "stdout",
     "output_type": "stream",
     "text": [
      "I am looking for a course in Paris!\n",
      "Only in spring, but London is great as well!\n",
      "Only in spring, but London is great as well!\n"
     ]
    }
   ],
   "source": [
    "def f():\n",
    "    global s\n",
    "    print(s)\n",
    "    s = \"Only in spring, but London is great as well!\"\n",
    "    print(s)\n",
    "\n",
    "\n",
    "s = \"I am looking for a course in Paris!\" \n",
    "f()\n",
    "print(s)"
   ]
  },
  {
   "cell_type": "code",
   "execution_count": null,
   "metadata": {},
   "outputs": [],
   "source": []
  },
  {
   "cell_type": "markdown",
   "metadata": {
    "id": "BbUiPvw7B1k8"
   },
   "source": [
    "**[The Anonymous Functions](https://thispointer.com/python-how-to-use-if-else-elif-in-lambda-functions/)**\n",
    "\n",
    "\n",
    "These functions are called anonymous because they are not declared in the standard manner by using the def keyword. You can use the lambda keyword to create small anonymous functions.\n",
    "\n",
    "  * Lambda forms can take any number of arguments but return just one value in the form of an expression. They cannot contain commands or multiple expressions.\n",
    "\n",
    "  * An anonymous function cannot be a direct call to print because lambda requires an expression\n",
    "\n",
    "  * Lambda functions have their own local namespace and cannot access variables other than those in their parameter list and those in the global namespace.\n",
    "\n",
    "\n",
    "Syntax\n",
    "\n",
    "The syntax of lambda functions contains only a single statement, which is as follows −\n",
    "\n",
    "```\n",
    "lambda [arg_1 ,arg_2,.....arg_n]: expression\n",
    "\n",
    "```\n",
    "Following is the example to show how lambda form of function works −\n",
    "\n",
    "\n"
   ]
  },
  {
   "cell_type": "code",
   "execution_count": 44,
   "metadata": {
    "colab": {
     "base_uri": "https://localhost:8080/",
     "height": 52
    },
    "executionInfo": {
     "elapsed": 1821,
     "status": "ok",
     "timestamp": 1600692973742,
     "user": {
      "displayName": "Hind Dadoun",
      "photoUrl": "",
      "userId": "05519274149180093824"
     },
     "user_tz": -120
    },
    "id": "l8lYOMYlBtNL",
    "outputId": "0f443578-0420-4fe3-f58f-d803bf3944d2"
   },
   "outputs": [
    {
     "name": "stdout",
     "output_type": "stream",
     "text": [
      "Value of total :  30\n",
      "Value of total :  40\n"
     ]
    }
   ],
   "source": [
    "sum_ = lambda arg1, arg2: arg1 + arg2 \n",
    "\n",
    "# Now you can call sum as a function\n",
    "print(\"Value of total : \", sum_( 10, 20 ))\n",
    "print(\"Value of total : \", sum_( 20, 20 ))"
   ]
  },
  {
   "cell_type": "code",
   "execution_count": 45,
   "metadata": {},
   "outputs": [],
   "source": [
    "def sum2_(arg1,arg2):\n",
    "    return arg1+arg2"
   ]
  },
  {
   "cell_type": "code",
   "execution_count": 46,
   "metadata": {
    "scrolled": true
   },
   "outputs": [
    {
     "name": "stdout",
     "output_type": "stream",
     "text": [
      "Value of total :  30\n",
      "Value of total :  40\n"
     ]
    }
   ],
   "source": [
    "print(\"Value of total : \", sum2_( 10, 20 ))\n",
    "print(\"Value of total : \", sum_( 20, 20 ))"
   ]
  },
  {
   "cell_type": "code",
   "execution_count": 47,
   "metadata": {},
   "outputs": [
    {
     "name": "stdout",
     "output_type": "stream",
     "text": [
      "30\n",
      "Value of total :  None\n"
     ]
    }
   ],
   "source": [
    "sum_ = lambda arg1, arg2: print(arg1 + arg2)\n",
    "print(\"Value of total : \", sum_( 10, 20 ))"
   ]
  },
  {
   "cell_type": "code",
   "execution_count": null,
   "metadata": {},
   "outputs": [],
   "source": []
  },
  {
   "cell_type": "code",
   "execution_count": 10,
   "metadata": {},
   "outputs": [],
   "source": [
    "def func(a):\n",
    "    return lambda x: a*x+1"
   ]
  },
  {
   "cell_type": "code",
   "execution_count": 11,
   "metadata": {},
   "outputs": [],
   "source": [
    "linfunc=func(0.1)"
   ]
  },
  {
   "cell_type": "code",
   "execution_count": 12,
   "metadata": {
    "scrolled": true
   },
   "outputs": [
    {
     "data": {
      "text/plain": [
       "1.2"
      ]
     },
     "execution_count": 12,
     "metadata": {},
     "output_type": "execute_result"
    }
   ],
   "source": [
    "linfunc(2)"
   ]
  },
  {
   "cell_type": "code",
   "execution_count": 13,
   "metadata": {},
   "outputs": [],
   "source": [
    "def func(a):\n",
    "    \n",
    "    def func2(x):\n",
    "        return a*x+1\n",
    "    \n",
    "    return func2"
   ]
  },
  {
   "cell_type": "code",
   "execution_count": 14,
   "metadata": {},
   "outputs": [],
   "source": [
    "linfunc=func(0.1)"
   ]
  },
  {
   "cell_type": "code",
   "execution_count": 15,
   "metadata": {},
   "outputs": [
    {
     "data": {
      "text/plain": [
       "1.2"
      ]
     },
     "execution_count": 15,
     "metadata": {},
     "output_type": "execute_result"
    }
   ],
   "source": [
    "linfunc(2)"
   ]
  },
  {
   "cell_type": "code",
   "execution_count": 1,
   "metadata": {},
   "outputs": [
    {
     "name": "stdout",
     "output_type": "stream",
     "text": [
      "True\n",
      "False\n",
      "False\n"
     ]
    }
   ],
   "source": [
    "lambda x : x > 10 and x < 20\n",
    "# Lambda function to check if a given vaue is from 10 to 20.\n",
    "check = lambda x : x > 10 and x < 20\n",
    "# Check if given numbers are in range using lambda function\n",
    "print(check(12))\n",
    "print(check(3))\n",
    "print(check(24))"
   ]
  },
  {
   "cell_type": "markdown",
   "metadata": {
    "id": "na-MpsOwD5bP"
   },
   "source": [
    "Using if, elif & else in a lambda function\n",
    "\n",
    "Till now we have seen how to use if else in a lambda function but there might be cases when we need to check multiple conditions in a lambda function. Like we need to use if , else if & else in a lambda function. We can not directly use elseif in a lambda function. But we can achieve the same effect using if else & brackets i.e.\n",
    "\n",
    "\n",
    "```\n",
    "lambda <args> : <return Value> if <condition > ( <return value > if <condition> else <return value>)\n",
    "```\n"
   ]
  },
  {
   "cell_type": "code",
   "execution_count": 2,
   "metadata": {
    "colab": {
     "base_uri": "https://localhost:8080/"
    },
    "executionInfo": {
     "elapsed": 389,
     "status": "ok",
     "timestamp": 1631794867663,
     "user": {
      "displayName": "Hind Dadoun",
      "photoUrl": "https://lh3.googleusercontent.com/a/default-user=s64",
      "userId": "05519274149180093824"
     },
     "user_tz": -120
    },
    "id": "zwRDD2cMD4nw",
    "outputId": "338a221a-b7e8-42f0-e0ad-b72c3fa1b1f9"
   },
   "outputs": [
    {
     "name": "stdout",
     "output_type": "stream",
     "text": [
      "convert 5 to :  10\n",
      "convert 13 to :  39\n",
      "convert 23 to :  69\n"
     ]
    }
   ],
   "source": [
    "converter = lambda x : x*2 if x < 10 else x*3 \n",
    "print('convert 5 to : ', converter(5))\n",
    "print('convert 13 to : ', converter(13))\n",
    "print('convert 23 to : ', converter(23))"
   ]
  },
  {
   "cell_type": "markdown",
   "metadata": {
    "id": "zGF6MfOgECIE"
   },
   "source": [
    "Create a lambda function that accepts a number and returns a new number based on this logic,\n",
    "\n",
    "  * If the given value is less than 10 then return by multiplying it by 2\n",
    "  * else if it’s between 10 to 20 then return multiplying it by 3\n",
    "  * else returns the same un-modified value\n"
   ]
  },
  {
   "cell_type": "code",
   "execution_count": 3,
   "metadata": {
    "id": "EAfoMy0yx4jw"
   },
   "outputs": [
    {
     "name": "stdout",
     "output_type": "stream",
     "text": [
      "convert 5 to :  10\n",
      "convert 13 to :  39\n",
      "convert 23 to :  23\n"
     ]
    }
   ],
   "source": [
    "converter = lambda x : x*2 if x < 10 else (x*3 if x < 20 else x)\n",
    "print('convert 5 to : ', converter(5))\n",
    "print('convert 13 to : ', converter(13))\n",
    "print('convert 23 to : ', converter(23))"
   ]
  },
  {
   "cell_type": "markdown",
   "metadata": {
    "id": "qfT6fxI6v5eX"
   },
   "source": [
    "**map():**\n",
    "\n",
    "Syntax:\n",
    "map(func,iterables)\n",
    "\n",
    "map() passes each element in the iterable through a function and returns the result of all elements having passed through the function.\n",
    "\n",
    "func is the function which would be applied on each element present in iterables.\n",
    "\n",
    "The return type of map() function is a list in python 2. However in python 3 it is a map object. To get a list, built-in list() function can be used : list(map(func,iterables))\n",
    "\n",
    "Combining map and Lambda:\n",
    "Suppose we've a mundane task of increasing all the elements of a list by 3 units."
   ]
  },
  {
   "cell_type": "code",
   "execution_count": 27,
   "metadata": {
    "id": "s2MHSpquzdSB"
   },
   "outputs": [
    {
     "name": "stdout",
     "output_type": "stream",
     "text": [
      "[5, 6, 7, 8, 9]\n"
     ]
    }
   ],
   "source": [
    "num_list = [2,3,4,5,6]\n",
    "def func(x):\n",
    "    return x+3\n",
    "increased = list(map(func , num_list))\n",
    "print(increased)"
   ]
  },
  {
   "cell_type": "code",
   "execution_count": 26,
   "metadata": {
    "colab": {
     "base_uri": "https://localhost:8080/",
     "height": 34
    },
    "executionInfo": {
     "elapsed": 588,
     "status": "ok",
     "timestamp": 1600761003343,
     "user": {
      "displayName": "Hind Dadoun",
      "photoUrl": "",
      "userId": "05519274149180093824"
     },
     "user_tz": -120
    },
    "id": "XSMmY-2SEQAB",
    "outputId": "cd580c19-a7db-405c-cdd1-b00bee015f83"
   },
   "outputs": [
    {
     "name": "stdout",
     "output_type": "stream",
     "text": [
      "[5, 6, 7, 8, 9]\n"
     ]
    }
   ],
   "source": [
    "num_list = [2,3,4,5,6]\n",
    "increased = list(map(lambda x: x+3 , num_list))\n",
    "print(increased)\n"
   ]
  },
  {
   "cell_type": "markdown",
   "metadata": {
    "id": "gWZ6Zf2iDra3"
   },
   "source": [
    "Using **filter()** function with a conditional lambda function (with if else)\n",
    "\n",
    "filter() function accepts a callback() function and a list of elements. It iterates over all elements in list and calls the given callback() function\n",
    "on each element. If callback() returns True then it appends that element in the new list. In the end it returns a new list of filtered elements only.\n",
    "\n",
    "Suppose we have a list of numbers i.e."
   ]
  },
  {
   "cell_type": "code",
   "execution_count": 28,
   "metadata": {
    "id": "PU8V12H5DxDO"
   },
   "outputs": [],
   "source": [
    "filter??"
   ]
  },
  {
   "cell_type": "code",
   "execution_count": 29,
   "metadata": {
    "id": "RC0nH_ygDquR"
   },
   "outputs": [],
   "source": [
    "listofNum = [1,3,33,12,34,56,11,19,21,34,15]"
   ]
  },
  {
   "cell_type": "code",
   "execution_count": 30,
   "metadata": {},
   "outputs": [],
   "source": [
    "def func(x):\n",
    "    if x>10 and x<20:\n",
    "        return True\n",
    "    else:\n",
    "        return False"
   ]
  },
  {
   "cell_type": "code",
   "execution_count": 31,
   "metadata": {
    "scrolled": true
   },
   "outputs": [
    {
     "data": {
      "text/plain": [
       "[12, 11, 19, 15]"
      ]
     },
     "execution_count": 31,
     "metadata": {},
     "output_type": "execute_result"
    }
   ],
   "source": [
    "list(filter(func, listofNum))"
   ]
  },
  {
   "cell_type": "code",
   "execution_count": 32,
   "metadata": {},
   "outputs": [
    {
     "data": {
      "text/plain": [
       "[12, 11, 19, 15]"
      ]
     },
     "execution_count": 32,
     "metadata": {},
     "output_type": "execute_result"
    }
   ],
   "source": [
    "list(filter(lambda x: True if (x>10 and x<20) else False, listofNum))"
   ]
  },
  {
   "cell_type": "markdown",
   "metadata": {},
   "source": [
    "**Recursions**"
   ]
  },
  {
   "cell_type": "code",
   "execution_count": 28,
   "metadata": {},
   "outputs": [],
   "source": [
    "def func(n):\n",
    "    if n>1:\n",
    "        n*=func(n-1)\n",
    "        return n\n",
    "    else:\n",
    "        return 1"
   ]
  },
  {
   "cell_type": "code",
   "execution_count": 29,
   "metadata": {},
   "outputs": [
    {
     "data": {
      "text/plain": [
       "120"
      ]
     },
     "execution_count": 29,
     "metadata": {},
     "output_type": "execute_result"
    }
   ],
   "source": [
    "func(5)"
   ]
  },
  {
   "cell_type": "code",
   "execution_count": null,
   "metadata": {},
   "outputs": [],
   "source": []
  }
 ],
 "metadata": {
  "colab": {
   "authorship_tag": "ABX9TyP4pAXPTla8y90XdTT54ODH",
   "collapsed_sections": [],
   "name": "practical_work3_basic_algorithms.ipynb",
   "provenance": []
  },
  "kernelspec": {
   "display_name": "Python 3",
   "language": "python",
   "name": "python3"
  },
  "language_info": {
   "codemirror_mode": {
    "name": "ipython",
    "version": 3
   },
   "file_extension": ".py",
   "mimetype": "text/x-python",
   "name": "python",
   "nbconvert_exporter": "python",
   "pygments_lexer": "ipython3",
   "version": "3.8.8"
  }
 },
 "nbformat": 4,
 "nbformat_minor": 1
}
