{
 "cells": [
  {
   "cell_type": "markdown",
   "id": "1d763cc1",
   "metadata": {
    "id": "ScGPD33dGfZZ"
   },
   "source": [
    "In order to write useful programs, we almost always need the ability to check conditions and change the behavior of the program accordingly. Conditional statements give us this ability. The simplest form is the if statement, which has the genaral form:\n",
    "\n",
    "\n",
    "```\n",
    "if BOOLEAN EXPRESSION:\n",
    "    STATEMENTS\n",
    "```\n",
    "\n",
    "A few important things to note about if statements:\n",
    "\n",
    "    The colon (:) is significant and required. It separates the header of the compound statement from the body.\n",
    "    The line after the colon must be indented. It is standard in Python to use four spaces for indenting.\n",
    "    All lines indented the same amount after the colon will be executed whenever the BOOLEAN_EXPRESSION is true.\n",
    "\n",
    "Here is an example:"
   ]
  },
  {
   "cell_type": "code",
   "execution_count": 1,
   "id": "3393f499",
   "metadata": {},
   "outputs": [
    {
     "name": "stdout",
     "output_type": "stream",
     "text": [
      "Ummmm, my favorite!\n",
      "I feel like saying it 100 times...\n",
      "spam! spam! spam! spam! spam! spam! spam! spam! spam! spam! \n"
     ]
    }
   ],
   "source": [
    "food = 'spam'\n",
    "\n",
    "if food == 'spam':\n",
    "    print('Ummmm, my favorite!')\n",
    "    print('I feel like saying it 100 times...')\n",
    "    print(10 * (food + '! '))\n",
    "\n",
    "    \n",
    "    \n"
   ]
  },
  {
   "cell_type": "code",
   "execution_count": 2,
   "id": "06dd12d2",
   "metadata": {},
   "outputs": [
    {
     "name": "stdout",
     "output_type": "stream",
     "text": [
      "Negation\n"
     ]
    }
   ],
   "source": [
    "if True:\n",
    "    print('Negation')"
   ]
  },
  {
   "cell_type": "code",
   "execution_count": 3,
   "id": "a45503eb",
   "metadata": {},
   "outputs": [
    {
     "name": "stdout",
     "output_type": "stream",
     "text": [
      "Negation\n"
     ]
    }
   ],
   "source": [
    "if not False:\n",
    "    print('Negation')"
   ]
  },
  {
   "cell_type": "code",
   "execution_count": 4,
   "id": "25953981",
   "metadata": {},
   "outputs": [
    {
     "name": "stdout",
     "output_type": "stream",
     "text": [
      "alright\n"
     ]
    }
   ],
   "source": [
    "if food != 'pizza': \n",
    "    print('alright')"
   ]
  },
  {
   "cell_type": "code",
   "execution_count": 3,
   "id": "d8e0e058",
   "metadata": {},
   "outputs": [
    {
     "name": "stdout",
     "output_type": "stream",
     "text": [
      "food is spam\n"
     ]
    }
   ],
   "source": [
    "if food !='spam':\n",
    "    print('oh no')\n",
    "else :\n",
    "    print('food is spam')"
   ]
  },
  {
   "cell_type": "code",
   "execution_count": 4,
   "id": "40bffa76",
   "metadata": {},
   "outputs": [],
   "source": [
    "#If the condition is not satisfied nothing happens\n",
    "food = 'tuna'\n",
    "\n",
    "if food == 'spam':\n",
    "    print('Ummmm, my favorite!')\n",
    "    print('I feel like saying it 100 times...')\n",
    "    print(10 * (food + '! '))"
   ]
  },
  {
   "cell_type": "code",
   "execution_count": null,
   "id": "813a86f6",
   "metadata": {},
   "outputs": [],
   "source": []
  },
  {
   "cell_type": "markdown",
   "id": "286b1f2c",
   "metadata": {
    "id": "ywlbDPd6HU3M"
   },
   "source": [
    "The syntax for an if else statement looks like this:\n",
    "\n",
    "\n",
    "```\n",
    "if BOOLEAN EXPRESSION:\n",
    "    STATEMENTS_1        # executed if condition evaluates to True\n",
    "else:\n",
    "    STATEMENTS_2        # executed if condition evaluates to False\n",
    "```\n",
    "Each statement inside the if block of an if else statement is executed in order if the boolean expression evaluates to True. The entire block of statements is skipped if the boolean expression evaluates to False, and instead all the statements under the else clause are executed.\n",
    "\n",
    "There is no limit on the number of statements that can appear under the two clauses of an if else statement, but there has to be at least one statement in each block. Occasionally, it is useful to have a section with no statements (usually as a place keeper, or scaffolding, for code you haven’t written yet). In that case, you can use the pass statement, which does nothing except act as a placeholder.\n",
    "```\n",
    "if True:          # This is always true\n",
    "    pass          # so this is always executed, but it does nothing\n",
    "else:\n",
    "    pass\n",
    "```\n"
   ]
  },
  {
   "cell_type": "code",
   "execution_count": 5,
   "id": "af33a65a",
   "metadata": {},
   "outputs": [
    {
     "name": "stdout",
     "output_type": "stream",
     "text": [
      "No, chance. I want spam!\n"
     ]
    }
   ],
   "source": [
    "#If the condition is not satisfied, \n",
    "food = 'tuna'\n",
    "if food == 'spam':\n",
    "    print('Ummmm, my favorite!')\n",
    "else:\n",
    "    print(\"No, chance. I want spam!\")"
   ]
  },
  {
   "cell_type": "code",
   "execution_count": 6,
   "id": "fc902e32",
   "metadata": {},
   "outputs": [],
   "source": [
    "if True:\n",
    "    pass\n",
    "else:\n",
    "    pass"
   ]
  },
  {
   "cell_type": "code",
   "execution_count": 7,
   "id": "2893ff85",
   "metadata": {},
   "outputs": [
    {
     "name": "stdout",
     "output_type": "stream",
     "text": [
      "there\n"
     ]
    }
   ],
   "source": [
    "if 0:\n",
    "    print('here')\n",
    "else:\n",
    "    print('there')"
   ]
  },
  {
   "cell_type": "code",
   "execution_count": 8,
   "id": "8802cadf",
   "metadata": {},
   "outputs": [
    {
     "name": "stdout",
     "output_type": "stream",
     "text": [
      "here\n"
     ]
    }
   ],
   "source": [
    "if 1:\n",
    "    print('here')\n",
    "else:\n",
    "    print('there')"
   ]
  },
  {
   "cell_type": "code",
   "execution_count": 9,
   "id": "876a6a9c",
   "metadata": {},
   "outputs": [
    {
     "name": "stdout",
     "output_type": "stream",
     "text": [
      "here\n"
     ]
    }
   ],
   "source": [
    "if 42:\n",
    "    print('here')\n",
    "else:\n",
    "    print('there')"
   ]
  },
  {
   "cell_type": "code",
   "execution_count": 10,
   "id": "0e54079d",
   "metadata": {},
   "outputs": [
    {
     "name": "stdout",
     "output_type": "stream",
     "text": [
      "here\n"
     ]
    }
   ],
   "source": [
    "if \"a\":\n",
    "    print('here')\n",
    "else:\n",
    "    print('there')"
   ]
  },
  {
   "cell_type": "code",
   "execution_count": 11,
   "id": "5b8f8707",
   "metadata": {},
   "outputs": [
    {
     "name": "stdout",
     "output_type": "stream",
     "text": [
      "there\n"
     ]
    }
   ],
   "source": [
    "if False:\n",
    "    print('here')\n",
    "else:\n",
    "    print('there')"
   ]
  },
  {
   "cell_type": "code",
   "execution_count": null,
   "id": "d3a35582",
   "metadata": {},
   "outputs": [],
   "source": []
  },
  {
   "cell_type": "markdown",
   "id": "7e0e9f2a",
   "metadata": {
    "id": "1tx5jk7GHgFC"
   },
   "source": [
    "Sometimes there are more than two possibilities and we need more than two branches. One way to express a computation like that is a chained conditional:\n",
    "\n",
    "\n",
    "```\n",
    "if x < y:\n",
    "    STATEMENTS_A\n",
    "elif x > y:\n",
    "    STATEMENTS_B\n",
    "else:\n",
    "    STATEMENTS_C\n",
    "```\n",
    "\n"
   ]
  },
  {
   "cell_type": "code",
   "execution_count": 12,
   "id": "e21b2e59",
   "metadata": {},
   "outputs": [
    {
     "name": "stdout",
     "output_type": "stream",
     "text": [
      "s1\n"
     ]
    }
   ],
   "source": [
    "x=3\n",
    "if x < 4:\n",
    "    print('s1')\n",
    "elif 4<= x <5:\n",
    "    print('s2')\n",
    "else:\n",
    "    print('s3')"
   ]
  },
  {
   "cell_type": "code",
   "execution_count": 13,
   "id": "7f45e1ec",
   "metadata": {},
   "outputs": [
    {
     "name": "stdout",
     "output_type": "stream",
     "text": [
      "s2\n"
     ]
    }
   ],
   "source": [
    "x=4.1\n",
    "if x < 4:\n",
    "    print('s1')\n",
    "elif 4<= x <5:\n",
    "    print('s2')\n",
    "else:\n",
    "    print('s3')"
   ]
  },
  {
   "cell_type": "code",
   "execution_count": 14,
   "id": "8276615a",
   "metadata": {},
   "outputs": [
    {
     "name": "stdout",
     "output_type": "stream",
     "text": [
      "s3\n"
     ]
    }
   ],
   "source": [
    "x=42\n",
    "if x < 4:\n",
    "    print('s1')\n",
    "elif 4<= x <5:\n",
    "    print('s2')\n",
    "else:\n",
    "    print('s3')"
   ]
  },
  {
   "cell_type": "code",
   "execution_count": null,
   "id": "d0f63740",
   "metadata": {},
   "outputs": [],
   "source": [
    "#no need to compare 4 <= x < 5 when x is already smaller than 4"
   ]
  },
  {
   "cell_type": "markdown",
   "id": "56961e84",
   "metadata": {
    "id": "OHuSLv9hHnXk"
   },
   "source": [
    "elif is an abbreviation of else if. Again, exactly one branch will be executed. There is no limit of the number of elif statements but only a single (and optional) final else statement is allowed and it must be the last branch in the statement:\n",
    "\n",
    "\n",
    "```\n",
    "if choice == 'a':\n",
    "    print(\"You chose 'a'.\")\n",
    "elif choice == 'b':\n",
    "    print(\"You chose 'b'.\")\n",
    "elif choice == 'c':\n",
    "    print(\"You chose 'c'.\")\n",
    "else:\n",
    "    print(\"Invalid choice.\")\n",
    "```\n",
    "\n"
   ]
  },
  {
   "cell_type": "markdown",
   "id": "26d43033",
   "metadata": {
    "id": "6QoCZlKZH5Zc"
   },
   "source": [
    "One conditional can also be nested within another. (It is the same theme of composibility, again!) We could have written the previous example as follows:\n",
    "\n",
    "```\n",
    "if x < y:\n",
    "    STATEMENTS_A\n",
    "else:\n",
    "    if x > y:\n",
    "        STATEMENTS_B\n",
    "    else:\n",
    "        STATEMENTS_C\n",
    "\n",
    "\n",
    "```"
   ]
  },
  {
   "cell_type": "markdown",
   "id": "3f14236e",
   "metadata": {
    "id": "mkuKy-a5Hwft"
   },
   "source": [
    "Each condition is checked in order. If the first is false, the next is checked, and so on. If one of them is true, the corresponding branch executes, and the statement ends. Even if more than one condition is true, only the first true branch executes."
   ]
  },
  {
   "cell_type": "code",
   "execution_count": 15,
   "id": "639998fa",
   "metadata": {},
   "outputs": [
    {
     "name": "stdout",
     "output_type": "stream",
     "text": [
      "s2\n"
     ]
    }
   ],
   "source": [
    "x=4\n",
    "if x < 4:\n",
    "    print('s1')\n",
    "elif 4<= x <5:\n",
    "    print('s2')\n",
    "elif x==4:\n",
    "    print('s3')\n",
    "else:\n",
    "    print('s4')"
   ]
  },
  {
   "cell_type": "markdown",
   "id": "608561e8",
   "metadata": {},
   "source": [
    "Exactly one branch will be executed. There is no limit of\n",
    "the number of elif statements but only a single (and optional) final else statement is allowed and\n",
    "it must be the last branch in the statement:"
   ]
  },
  {
   "cell_type": "code",
   "execution_count": 16,
   "id": "2c401039",
   "metadata": {},
   "outputs": [
    {
     "name": "stdout",
     "output_type": "stream",
     "text": [
      "ok\n"
     ]
    }
   ],
   "source": [
    "x = 15\n",
    "if 0 < x:\n",
    "    if x < 10:\n",
    "        print(\"x is a positive single digit.\")\n",
    "    else :\n",
    "        if x < 25:\n",
    "            print('ok')"
   ]
  },
  {
   "cell_type": "code",
   "execution_count": 17,
   "id": "02be6534",
   "metadata": {},
   "outputs": [
    {
     "name": "stdout",
     "output_type": "stream",
     "text": [
      "ok\n"
     ]
    }
   ],
   "source": [
    "if 0<x:\n",
    "    if x < 10:\n",
    "        print(\"x is a positive single digit.\")\n",
    "    elif x < 25:\n",
    "            print('ok')"
   ]
  },
  {
   "cell_type": "code",
   "execution_count": null,
   "id": "9b949d40",
   "metadata": {},
   "outputs": [],
   "source": []
  },
  {
   "cell_type": "code",
   "execution_count": 18,
   "id": "27de132d",
   "metadata": {},
   "outputs": [
    {
     "name": "stdout",
     "output_type": "stream",
     "text": [
      "s1\n"
     ]
    }
   ],
   "source": [
    "x=3\n",
    "if x < 4:\n",
    "    print('s1')\n",
    "else:\n",
    "    if 4<= x <5:\n",
    "        print('s2')\n",
    "    else:\n",
    "        print('s3')"
   ]
  },
  {
   "cell_type": "code",
   "execution_count": 19,
   "id": "f3eea08e",
   "metadata": {},
   "outputs": [
    {
     "name": "stdout",
     "output_type": "stream",
     "text": [
      "s2\n"
     ]
    }
   ],
   "source": [
    "x=4.1\n",
    "if x < 4:\n",
    "    print('s1')\n",
    "else:\n",
    "    if 4<= x <5:\n",
    "        print('s2')\n",
    "    else:\n",
    "        print('s3')"
   ]
  },
  {
   "cell_type": "code",
   "execution_count": 20,
   "id": "a75b6dcf",
   "metadata": {},
   "outputs": [
    {
     "name": "stdout",
     "output_type": "stream",
     "text": [
      "s3\n"
     ]
    }
   ],
   "source": [
    "x=42\n",
    "if x < 4:\n",
    "    print('s1')\n",
    "else:\n",
    "    if 4<= x <5:\n",
    "        print('s2')\n",
    "    else:\n",
    "        print('s3')"
   ]
  },
  {
   "cell_type": "code",
   "execution_count": 21,
   "id": "99a4ce0b",
   "metadata": {},
   "outputs": [
    {
     "name": "stdout",
     "output_type": "stream",
     "text": [
      "x is positive\n",
      "x is an integer\n"
     ]
    }
   ],
   "source": [
    "x=10\n",
    "if 0<x:\n",
    "    print('x is positive')\n",
    "if type(x) == int:\n",
    "    print('x is an integer')"
   ]
  },
  {
   "cell_type": "code",
   "execution_count": 22,
   "id": "b9b1d95a",
   "metadata": {},
   "outputs": [
    {
     "name": "stdout",
     "output_type": "stream",
     "text": [
      "x is a natural number\n"
     ]
    }
   ],
   "source": [
    "x=10\n",
    "if 0<x:\n",
    "    if type(x) == int:\n",
    "        print('x is a natural number')"
   ]
  },
  {
   "cell_type": "code",
   "execution_count": 1,
   "id": "063a3df8",
   "metadata": {},
   "outputs": [
    {
     "name": "stdout",
     "output_type": "stream",
     "text": [
      "x is a natural number\n"
     ]
    }
   ],
   "source": [
    "#trang\n",
    "x=10\n",
    "if 0<x and type(x) == int:\n",
    "        print('x is a natural number')"
   ]
  },
  {
   "cell_type": "markdown",
   "id": "f28df7f1",
   "metadata": {},
   "source": [
    "**THE FOR LOOP**"
   ]
  },
  {
   "cell_type": "markdown",
   "id": "c046df64",
   "metadata": {
    "id": "osoWp2PLJX_C"
   },
   "source": [
    "The for loop processes each item in a sequence, so it is used with Python’s sequence data types - strings, lists, and tuples.\n",
    "\n",
    "Each item in turn is (re-)assigned to the loop variable, and the body of the loop is executed.\n",
    "\n",
    "The general form of a for loop is:\n",
    "\n",
    "\n",
    "```\n",
    "for LOOP_VARIABLE in SEQUENCE:\n",
    "    STATEMENTS\n",
    "```\n",
    "\n",
    "This is another example of a compound statement in Python, and like the branching statements, it has a header terminated by a colon (:) and a body consisting of a sequence of one or more statements indented the same amount from the header.\n",
    "\n",
    "The loop variable is created when the for statement runs, so you do not need to create the variable before then. Each iteration assigns the the loop variable to the next element in the sequence, and then executes the statements in the body. The statement finishes when the last element in the sequence is reached.\n",
    "\n",
    "This type of flow is called a loop because it loops back around to the top after each iteration."
   ]
  },
  {
   "cell_type": "markdown",
   "id": "1140a0c9",
   "metadata": {},
   "source": [
    "**THE WHILE LOOP**"
   ]
  },
  {
   "cell_type": "markdown",
   "id": "a6786a64",
   "metadata": {
    "id": "JcgaIIt4JxP3"
   },
   "source": [
    "The general syntax for the while statement looks like this:\n",
    "\n",
    "\n",
    "```\n",
    "while BOOLEAN_EXPRESSION:\n",
    "    STATEMENTS\n",
    "```\n",
    "\n",
    "Like the branching statements and the for loop, the while statement is a compound statement consisting of a header and a body. A while loop executes an unknown number of times, as long at the BOOLEAN EXPRESSION is true.\n",
    "\n",
    "Here is a simple example:\n"
   ]
  },
  {
   "cell_type": "code",
   "execution_count": 3,
   "id": "8cdd0067",
   "metadata": {
    "scrolled": true
   },
   "outputs": [
    {
     "name": "stdout",
     "output_type": "stream",
     "text": [
      "What is the meaning of life, the universe, and everything? 20\n",
      "What is the meaning of life, the universe, and everything? 44\n",
      "What is the meaning of life, the universe, and everything? 42\n"
     ]
    }
   ],
   "source": [
    "number = '88'  #definite for the loop \n",
    "prompt = \"What is the meaning of life, the universe, and everything? \"\n",
    "while number != \"42\": #vong lap ko csos dkien chinh xac ban dau #vo tan cho dến khi #so lan lap ko xac dinh\n",
    "    number = input(prompt)\n",
    "\n",
    "#lap cho den bao gio nhap vao khac 42\n"
   ]
  },
  {
   "cell_type": "code",
   "execution_count": 2,
   "id": "a79ecc48",
   "metadata": {},
   "outputs": [
    {
     "name": "stdout",
     "output_type": "stream",
     "text": [
      "0\n",
      "1\n",
      "2\n",
      "3\n",
      "4\n",
      "5\n",
      "6\n",
      "7\n",
      "8\n",
      "9\n"
     ]
    }
   ],
   "source": [
    "for i in range(0, 10):\n",
    "    print(i)"
   ]
  },
  {
   "cell_type": "code",
   "execution_count": 31,
   "id": "d8003236",
   "metadata": {
    "scrolled": false
   },
   "outputs": [
    {
     "name": "stdout",
     "output_type": "stream",
     "text": [
      "What is the meaning of life, the universe, and everything? 42\n"
     ]
    }
   ],
   "source": [
    "number = '88'\n",
    "prompt = \"What is the meaning of life, the universe, and everything? \"\n",
    "while True:\n",
    "    number = input(prompt)\n",
    "    if number=='42':\n",
    "        break"
   ]
  },
  {
   "cell_type": "code",
   "execution_count": 42,
   "id": "6bee5999",
   "metadata": {},
   "outputs": [
    {
     "name": "stdout",
     "output_type": "stream",
     "text": [
      "0\n",
      "1\n",
      "2\n",
      "3\n",
      "4\n",
      "5\n",
      "6\n",
      "7\n",
      "8\n",
      "9\n"
     ]
    }
   ],
   "source": [
    "for i in range(10):\n",
    "    print(i)"
   ]
  },
  {
   "cell_type": "code",
   "execution_count": 41,
   "id": "9032ed87",
   "metadata": {},
   "outputs": [
    {
     "name": "stdout",
     "output_type": "stream",
     "text": [
      "0\n",
      "1\n",
      "2\n",
      "3\n",
      "4\n",
      "5\n",
      "6\n",
      "7\n",
      "8\n",
      "9\n"
     ]
    }
   ],
   "source": [
    "i=0\n",
    "while True:\n",
    "    if i<10:\n",
    "        print(i)\n",
    "    else: \n",
    "        break\n",
    "    i=i+1"
   ]
  },
  {
   "cell_type": "code",
   "execution_count": null,
   "id": "0978de44",
   "metadata": {},
   "outputs": [],
   "source": [
    "#trang: break is for stopping the loop"
   ]
  },
  {
   "cell_type": "code",
   "execution_count": 33,
   "id": "bc8f1f56",
   "metadata": {},
   "outputs": [
    {
     "name": "stdout",
     "output_type": "stream",
     "text": [
      "7 9\n",
      "8 8\n",
      "9 7\n"
     ]
    }
   ],
   "source": [
    "for i in range(10):\n",
    "    for j in range(10):\n",
    "        if i+j>15:\n",
    "            print(i,j)\n",
    "            break"
   ]
  },
  {
   "cell_type": "code",
   "execution_count": 34,
   "id": "6c5a7561",
   "metadata": {},
   "outputs": [
    {
     "name": "stdout",
     "output_type": "stream",
     "text": [
      "-5\n",
      "-4\n",
      "-3\n",
      "-2\n",
      "-1\n",
      "0\n",
      "1\n",
      "2\n",
      "3\n",
      "4\n",
      "100\n"
     ]
    }
   ],
   "source": [
    "for i in range(10):\n",
    "    print(i-5)\n",
    "else:\n",
    "    print(100)"
   ]
  },
  {
   "cell_type": "code",
   "execution_count": 43,
   "id": "52710669",
   "metadata": {},
   "outputs": [
    {
     "name": "stdout",
     "output_type": "stream",
     "text": [
      "0\n",
      "1\n",
      "2\n",
      "3\n",
      "4\n",
      "5\n",
      "6\n"
     ]
    }
   ],
   "source": [
    "for i in range(10):\n",
    "    print(i)\n",
    "    if i>5:\n",
    "        break\n",
    "else:\n",
    "    print(100)"
   ]
  },
  {
   "cell_type": "code",
   "execution_count": 35,
   "id": "aff8d64e",
   "metadata": {
    "scrolled": true
   },
   "outputs": [
    {
     "name": "stdout",
     "output_type": "stream",
     "text": [
      "7 9\n"
     ]
    }
   ],
   "source": [
    "arr=[]\n",
    "for x in range(10):\n",
    "    for y in range(10):\n",
    "        if x+y > 15:\n",
    "            print (x,y)\n",
    "            break\n",
    "    else:\n",
    "        arr.append([x,y])\n",
    "        continue  # only executed if the inner loop did NOT break\n",
    "    break  # only executed if the inner loop DID break"
   ]
  },
  {
   "cell_type": "code",
   "execution_count": 36,
   "id": "97a8e77d",
   "metadata": {
    "scrolled": true
   },
   "outputs": [
    {
     "data": {
      "text/plain": [
       "[[0, 9], [1, 9], [2, 9], [3, 9], [4, 9], [5, 9], [6, 9]]"
      ]
     },
     "execution_count": 36,
     "metadata": {},
     "output_type": "execute_result"
    }
   ],
   "source": [
    "arr"
   ]
  },
  {
   "cell_type": "code",
   "execution_count": 37,
   "id": "6492c790",
   "metadata": {
    "scrolled": true
   },
   "outputs": [
    {
     "data": {
      "text/plain": [
       "[(0, 0),\n",
       " (0, 1),\n",
       " (0, 2),\n",
       " (0, 3),\n",
       " (0, 4),\n",
       " (0, 5),\n",
       " (0, 6),\n",
       " (0, 7),\n",
       " (0, 8),\n",
       " (0, 9),\n",
       " (1, 0),\n",
       " (1, 1),\n",
       " (1, 2),\n",
       " (1, 3),\n",
       " (1, 4),\n",
       " (1, 5),\n",
       " (1, 6),\n",
       " (1, 7),\n",
       " (1, 8),\n",
       " (1, 9),\n",
       " (2, 0),\n",
       " (2, 1),\n",
       " (2, 2),\n",
       " (2, 3),\n",
       " (2, 4),\n",
       " (2, 5),\n",
       " (2, 6),\n",
       " (2, 7),\n",
       " (2, 8),\n",
       " (2, 9),\n",
       " (3, 0),\n",
       " (3, 1),\n",
       " (3, 2),\n",
       " (3, 3),\n",
       " (3, 4),\n",
       " (3, 5),\n",
       " (3, 6),\n",
       " (3, 7),\n",
       " (3, 8),\n",
       " (3, 9),\n",
       " (4, 0),\n",
       " (4, 1),\n",
       " (4, 2),\n",
       " (4, 3),\n",
       " (4, 4),\n",
       " (4, 5),\n",
       " (4, 6),\n",
       " (4, 7),\n",
       " (4, 8),\n",
       " (4, 9),\n",
       " (5, 0),\n",
       " (5, 1),\n",
       " (5, 2),\n",
       " (5, 3),\n",
       " (5, 4),\n",
       " (5, 5),\n",
       " (5, 6),\n",
       " (5, 7),\n",
       " (5, 8),\n",
       " (5, 9),\n",
       " (6, 0),\n",
       " (6, 1),\n",
       " (6, 2),\n",
       " (6, 3),\n",
       " (6, 4),\n",
       " (6, 5),\n",
       " (6, 6),\n",
       " (6, 7),\n",
       " (6, 8),\n",
       " (6, 9),\n",
       " (7, 0),\n",
       " (7, 1),\n",
       " (7, 2),\n",
       " (7, 3),\n",
       " (7, 4),\n",
       " (7, 5),\n",
       " (7, 6),\n",
       " (7, 7),\n",
       " (7, 8),\n",
       " (7, 9),\n",
       " (8, 0),\n",
       " (8, 1),\n",
       " (8, 2),\n",
       " (8, 3),\n",
       " (8, 4),\n",
       " (8, 5),\n",
       " (8, 6),\n",
       " (8, 7),\n",
       " (8, 8),\n",
       " (8, 9),\n",
       " (9, 0),\n",
       " (9, 1),\n",
       " (9, 2),\n",
       " (9, 3),\n",
       " (9, 4),\n",
       " (9, 5),\n",
       " (9, 6),\n",
       " (9, 7),\n",
       " (9, 8),\n",
       " (9, 9)]"
      ]
     },
     "execution_count": 37,
     "metadata": {},
     "output_type": "execute_result"
    }
   ],
   "source": [
    "import itertools\n",
    "a=list(range(0,10,1))\n",
    "b=list(range(0,10,1))\n",
    "arr2=list(itertools.product(a,b))\n",
    "arr2"
   ]
  },
  {
   "cell_type": "code",
   "execution_count": 38,
   "id": "29718a91",
   "metadata": {
    "scrolled": true
   },
   "outputs": [
    {
     "name": "stdout",
     "output_type": "stream",
     "text": [
      "7 9\n"
     ]
    }
   ],
   "source": [
    "for elem in arr2:\n",
    "    if elem[0]+elem[1]>15:\n",
    "        print(elem[0],elem[1])\n",
    "        break"
   ]
  },
  {
   "cell_type": "code",
   "execution_count": null,
   "id": "86a48bb9",
   "metadata": {},
   "outputs": [],
   "source": []
  },
  {
   "cell_type": "markdown",
   "id": "f2bfcb0e",
   "metadata": {
    "id": "f5UAjYvTL1Pz"
   },
   "source": [
    "A list comprehension is a syntactic construct that enables lists to be created from other lists using a compact, mathematical syntax. \n",
    "\n",
    "The general syntax for a list comprehension expression is:\n",
    "\n",
    "\n",
    "```\n",
    "[expr for  item1 in  seq1 for item2 in seq2 ... for itemx in seqx if condition]\n",
    "```\n",
    "\n",
    "This list expression has the same effect as:\n",
    "```\n",
    "\n",
    "output_sequence = []\n",
    "for item1 in seq1:\n",
    "    for item2 in seq2:\n",
    "        ...\n",
    "            for itemx in seqx:\n",
    "                if condition:\n",
    "                    output_sequence.append(expr)\n",
    "\n",
    "As you can see, the list comprehension is much more compact.\n",
    "```\n"
   ]
  },
  {
   "cell_type": "markdown",
   "id": "51862dfe",
   "metadata": {},
   "source": [
    "## List Compression"
   ]
  },
  {
   "cell_type": "code",
   "execution_count": 39,
   "id": "84f53bb6",
   "metadata": {},
   "outputs": [
    {
     "data": {
      "text/plain": [
       "[11, 22, 33, 12, 24, 36, 13, 26]"
      ]
     },
     "execution_count": 39,
     "metadata": {},
     "output_type": "execute_result"
    }
   ],
   "source": [
    "l=[]\n",
    "list1=[11,12,13]\n",
    "list2=[1,2,3,4]\n",
    "for elem in list1:\n",
    "    for e in list2:\n",
    "        if elem*e<37:\n",
    "            l.append(elem*e)\n",
    "l"
   ]
  },
  {
   "cell_type": "code",
   "execution_count": 40,
   "id": "fbddc27b",
   "metadata": {},
   "outputs": [
    {
     "data": {
      "text/plain": [
       "[11, 22, 33, 12, 24, 36, 13, 26]"
      ]
     },
     "execution_count": 40,
     "metadata": {},
     "output_type": "execute_result"
    }
   ],
   "source": [
    "[elem*e for elem in list1 for e in list2 if elem*e<37]"
   ]
  },
  {
   "cell_type": "code",
   "execution_count": 39,
   "id": "14e555ff",
   "metadata": {},
   "outputs": [
    {
     "name": "stdout",
     "output_type": "stream",
     "text": [
      "[1, 4, 9, 16]\n",
      "[9, 16]\n",
      "[(1, 1, 1), (2, 4, 8), (3, 9, 27), (4, 16, 64)]\n"
     ]
    }
   ],
   "source": [
    "numbers = [1, 2, 3, 4]\n",
    "print([x**2 for x in numbers]) # x**2 = x^2\n",
    "print([x**2 for x in numbers if x**2 > 8])\n",
    "print([(x, x**2, x**3) for x in numbers])"
   ]
  },
  {
   "cell_type": "code",
   "execution_count": 40,
   "id": "9536309b",
   "metadata": {},
   "outputs": [
    {
     "name": "stdout",
     "output_type": "stream",
     "text": [
      "['bin', 'Data', 'Desktop']\n",
      "['bin', 'Data', 'Desktop', 'ok', 'ok', 'ok']\n"
     ]
    }
   ],
   "source": [
    "files = ['bin', 'Data', 'Desktop', '.bashrc', '.ssh', '.vimrc']\n",
    "print([name for name in files if name[0] != '.'])\n",
    "print([name if name[0]!='.' else 'ok' for name in files ])"
   ]
  },
  {
   "cell_type": "code",
   "execution_count": 41,
   "id": "022ba36a",
   "metadata": {},
   "outputs": [
    {
     "name": "stdout",
     "output_type": "stream",
     "text": [
      "['a', 'b', 'c', 'aa', 'bb', 'cc', 'aaa', 'bbb', 'ccc', 'aaaa', 'bbbb', 'cccc']\n"
     ]
    }
   ],
   "source": [
    "letters = ['a', 'b', 'c']\n",
    "print([n * letter for n in numbers for letter in letters])"
   ]
  },
  {
   "cell_type": "code",
   "execution_count": 42,
   "id": "985605bc",
   "metadata": {},
   "outputs": [
    {
     "name": "stdout",
     "output_type": "stream",
     "text": [
      "['a', 'b', 'c', 'aa', 'bb', 'cc', 'aaa', 'bbb', 'ccc', 'aaaa', 'bbbb', 'cccc']\n"
     ]
    }
   ],
   "source": [
    "output_list = []\n",
    "for n in numbers :\n",
    "    for letter in letters :\n",
    "        output_list.append(n*letter)\n",
    "print(output_list)"
   ]
  },
  {
   "cell_type": "code",
   "execution_count": null,
   "id": "b7553101",
   "metadata": {},
   "outputs": [],
   "source": []
  },
  {
   "cell_type": "markdown",
   "id": "7c4f9eb6",
   "metadata": {
    "id": "Hsb8BOs4I9-6"
   },
   "source": [
    "## Updating variables"
   ]
  },
  {
   "cell_type": "markdown",
   "id": "26cca19e",
   "metadata": {
    "id": "Kh3IopNbJA5R"
   },
   "source": [
    "When an assignment statement is executed, the right-hand-side expression (i.e. the expression that comes after the assignment token) is evaluated first. Then the result of that evaluation is written into the variable on the left hand side, thereby changing it.\n",
    "\n",
    "One of the most common forms of reassignment is an update, where the new value of the variable depends on its old value."
   ]
  },
  {
   "cell_type": "code",
   "execution_count": 25,
   "id": "9e4ee440",
   "metadata": {},
   "outputs": [
    {
     "name": "stdout",
     "output_type": "stream",
     "text": [
      "5\n",
      "5\n",
      "-------------------\n",
      "3\n",
      "5\n"
     ]
    }
   ],
   "source": [
    "a = 5\n",
    "b = a# after executing this line, a and b are now equal\n",
    "print(a)\n",
    "print(b)\n",
    "a = 3# after executing this line, a and b are no longer equal\n",
    "print('-------------------')\n",
    "print(a)\n",
    "print(b)"
   ]
  },
  {
   "cell_type": "code",
   "execution_count": 26,
   "id": "d0caa6ad",
   "metadata": {},
   "outputs": [
    {
     "data": {
      "text/plain": [
       "16"
      ]
     },
     "execution_count": 26,
     "metadata": {},
     "output_type": "execute_result"
    }
   ],
   "source": [
    "n = 5\n",
    "n = 3 * n+1\n",
    "n"
   ]
  },
  {
   "cell_type": "code",
   "execution_count": 27,
   "id": "65d002ac",
   "metadata": {},
   "outputs": [
    {
     "name": "stdout",
     "output_type": "stream",
     "text": [
      "[1, 2, 3]\n",
      "[1, 2, 3]\n",
      "-------------------\n",
      "[1, 2, 3, 4]\n",
      "[1, 2, 3, 4]\n",
      "-------------------\n",
      "[1, 2, 3, 4, 5]\n",
      "[1, 2, 3, 4]\n"
     ]
    }
   ],
   "source": [
    "a = [1,2,3]\n",
    "b = a\n",
    "print(a)\n",
    "print(b)\n",
    "c = a.append(4)\n",
    "print('-------------------')\n",
    "print(a)\n",
    "print(b)\n",
    "a = a+[5]\n",
    "print('-------------------')\n",
    "print(a)\n",
    "print(b)"
   ]
  },
  {
   "cell_type": "code",
   "execution_count": 28,
   "id": "dde11249",
   "metadata": {},
   "outputs": [
    {
     "name": "stdout",
     "output_type": "stream",
     "text": [
      "Hi Margot. Please come to my party on Saturday!\n",
      "Hi Kathryn. Please come to my party on Saturday!\n",
      "Hi Prisila. Please come to my party on Saturday!\n"
     ]
    }
   ],
   "source": [
    "for friend in ['Margot', 'Kathryn', 'Prisila']:\n",
    "    invitation = \"Hi \" + friend + \". Please come to my party on Saturday!\"\n",
    "    print(invitation)"
   ]
  },
  {
   "cell_type": "code",
   "execution_count": 29,
   "id": "258204eb",
   "metadata": {},
   "outputs": [
    {
     "name": "stdout",
     "output_type": "stream",
     "text": [
      "i is now: 0\n",
      "i is now: 1\n",
      "i is now: 2\n",
      "i is now: 3\n",
      "i is now: 4\n"
     ]
    }
   ],
   "source": [
    "# Often times you will want a loop that iterates a given number of times, or that iterates over a\n",
    "# given sequence of numbers. The range function come in handy for that.\n",
    "for i in range(5):\n",
    "    print('i is now:', i)"
   ]
  }
 ],
 "metadata": {
  "kernelspec": {
   "display_name": "Python 3",
   "language": "python",
   "name": "python3"
  },
  "language_info": {
   "codemirror_mode": {
    "name": "ipython",
    "version": 3
   },
   "file_extension": ".py",
   "mimetype": "text/x-python",
   "name": "python",
   "nbconvert_exporter": "python",
   "pygments_lexer": "ipython3",
   "version": "3.8.8"
  }
 },
 "nbformat": 4,
 "nbformat_minor": 5
}
